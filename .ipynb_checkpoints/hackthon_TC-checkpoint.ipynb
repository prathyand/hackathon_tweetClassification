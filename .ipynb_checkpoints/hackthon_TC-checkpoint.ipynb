{
 "cells": [
  {
   "cell_type": "code",
   "execution_count": 42,
   "id": "317d9371",
   "metadata": {},
   "outputs": [],
   "source": [
    "import numpy as np\n",
    "import pandas as pd\n",
    "import os\n",
    "import gc\n",
    "import matplotlib.pyplot as plt\n",
    "from sklearn.model_selection import train_test_split\n",
    "from sklearn.impute import SimpleImputer\n",
    "from sklearn.pipeline import FeatureUnion\n",
    "from sklearn.preprocessing import StandardScaler\n",
    "from sklearn.preprocessing import OneHotEncoder\n",
    "from sklearn.base import BaseEstimator,TransformerMixin\n",
    "from sklearn.pipeline import Pipeline, FeatureUnion\n",
    "from sklearn.compose import ColumnTransformer\n",
    "import seaborn as sns\n",
    "from sklearn.metrics import accuracy_score\n",
    "from sklearn.metrics import roc_auc_score\n",
    "from sklearn.metrics import f1_score\n",
    "from sklearn.metrics import RocCurveDisplay\n",
    "from sklearn.model_selection import GridSearchCV\n",
    "from sklearn.model_selection import RandomizedSearchCV\n",
    "from sklearn.metrics import plot_confusion_matrix\n",
    "from sklearn.metrics import RocCurveDisplay\n",
    "from sklearn.ensemble import RandomForestClassifier\n",
    "from sklearn.ensemble import GradientBoostingClassifier\n",
    "from sklearn.linear_model import SGDClassifier\n",
    "from sklearn.neighbors import KNeighborsClassifier"
   ]
  },
  {
   "cell_type": "code",
   "execution_count": 43,
   "id": "f3fc32e2",
   "metadata": {},
   "outputs": [],
   "source": [
    "# !pip install --upgrade --user scikit-learn"
   ]
  },
  {
   "cell_type": "code",
   "execution_count": 44,
   "id": "8e158df0",
   "metadata": {},
   "outputs": [],
   "source": [
    "df = pd.read_csv(\"data/train_dataset.csv\",index_col=False)"
   ]
  },
  {
   "cell_type": "code",
   "execution_count": 45,
   "id": "711c0801",
   "metadata": {},
   "outputs": [
    {
     "name": "stdout",
     "output_type": "stream",
     "text": [
      "<class 'pandas.core.frame.DataFrame'>\n",
      "RangeIndex: 3216 entries, 0 to 3215\n",
      "Data columns (total 35 columns):\n",
      " #   Column                    Non-Null Count  Dtype  \n",
      "---  ------                    --------------  -----  \n",
      " 0   Unnamed: 0                3216 non-null   int64  \n",
      " 1   Unnamed: 0.1              3216 non-null   int64  \n",
      " 2   key                       3216 non-null   object \n",
      " 3   ID                        3216 non-null   float64\n",
      " 4   create_date               3216 non-null   object \n",
      " 5   user                      3216 non-null   object \n",
      " 6   userID                    3216 non-null   float64\n",
      " 7   RT_TF                     3216 non-null   bool   \n",
      " 8   full_text                 3216 non-null   object \n",
      " 9   Sample.ID.x               3216 non-null   int64  \n",
      " 10  Sample.ID.y               3216 non-null   int64  \n",
      " 11  Still.Exists.x            3216 non-null   bool   \n",
      " 12  Still.Exists.y            3216 non-null   bool   \n",
      " 13  In.English.x              3216 non-null   bool   \n",
      " 14  In.English.y              3216 non-null   bool   \n",
      " 15  Sarcasm.x                 3216 non-null   bool   \n",
      " 16  Sarcasm.y                 3216 non-null   bool   \n",
      " 17  Additional.Comments.x     3216 non-null   object \n",
      " 18  Additional.Comments.y     3216 non-null   object \n",
      " 19  User.x                    3216 non-null   object \n",
      " 20  User.y                    3216 non-null   object \n",
      " 21  Disagree.With.x           3216 non-null   bool   \n",
      " 22  Disagree.With.y           3216 non-null   bool   \n",
      " 23  Sentiment.Rating.x        3216 non-null   int64  \n",
      " 24  Sentiment.Rating.y        3216 non-null   int64  \n",
      " 25  Calling.Out.x             3216 non-null   int64  \n",
      " 26  Calling.Out.y             3216 non-null   int64  \n",
      " 27  Is.About.the.Holocaust.x  2264 non-null   float64\n",
      " 28  Is.About.the.Holocaust.y  2264 non-null   float64\n",
      " 29  IHRA.Section.x            3216 non-null   int64  \n",
      " 30  IHRA.Section.y            3216 non-null   int64  \n",
      " 31  sample_name               3216 non-null   object \n",
      " 32  Is.About.The.Holocaust.x  952 non-null    float64\n",
      " 33  Is.About.The.Holocaust.y  952 non-null    float64\n",
      " 34  Target                    3216 non-null   int64  \n",
      "dtypes: bool(9), float64(6), int64(11), object(9)\n",
      "memory usage: 681.6+ KB\n"
     ]
    }
   ],
   "source": [
    "df.info()"
   ]
  },
  {
   "cell_type": "code",
   "execution_count": 46,
   "id": "75cc093f",
   "metadata": {},
   "outputs": [],
   "source": [
    "def memreduce(df):\n",
    "    mem_before = df.memory_usage().sum() / 1024**2\n",
    "    print(\"Memory Usage of DataFrame is \"+ str(mem_before))\n",
    "    for col in df.columns:\n",
    "        coltype=df[col].dtype\n",
    "        if coltype!=object:\n",
    "            c_min=df[col].min()\n",
    "            c_max=df[col].max()\n",
    "            if(str(coltype)[:3]=='int'):\n",
    "                if(c_min>=np.iinfo(np.int8).min and c_max<=np.iinfo(np.int8).max):\n",
    "                    df[col]=df[col].astype(np.int8)\n",
    "                elif(c_min>=np.iinfo(np.int16).min and c_max<=np.iinfo(np.int16).max):\n",
    "                    df[col]=df[col].astype(np.int16)\n",
    "                elif(c_min>=np.iinfo(np.int16).min and c_max<=np.iinfo(np.int16).max):\n",
    "                    df[col]=df[col].astype(np.int16)\n",
    "                    \n",
    "            elif(str(coltype)[:5]=='float'):\n",
    "                if(c_min>=np.finfo(np.float16).min and c_max<=np.finfo(np.float16).max):\n",
    "                    df[col]=df[col].astype(np.float16)\n",
    "                elif(c_min>=np.finfo(np.float32).min and c_max<=np.finfo(np.float32).max):\n",
    "                    df[col]=df[col].astype(np.float32)\n",
    "    mem_before = df.memory_usage().sum() / 1024**2\n",
    "    print(\"Memory Usage of DataFrame after optimization is \"+ str(mem_before))\n",
    "    return df\n",
    "                \n",
    "                "
   ]
  },
  {
   "cell_type": "code",
   "execution_count": 47,
   "id": "65bd8621",
   "metadata": {},
   "outputs": [
    {
     "name": "stdout",
     "output_type": "stream",
     "text": [
      "Memory Usage of DataFrame is 0.6656646728515625\n",
      "Memory Usage of DataFrame after optimization is 0.3436279296875\n"
     ]
    },
    {
     "data": {
      "text/plain": [
       "78"
      ]
     },
     "execution_count": 47,
     "metadata": {},
     "output_type": "execute_result"
    }
   ],
   "source": [
    "df=memreduce(df)\n",
    "gc.collect()"
   ]
  },
  {
   "cell_type": "code",
   "execution_count": 48,
   "id": "f0c34987",
   "metadata": {},
   "outputs": [
    {
     "data": {
      "text/html": [
       "<div>\n",
       "<style scoped>\n",
       "    .dataframe tbody tr th:only-of-type {\n",
       "        vertical-align: middle;\n",
       "    }\n",
       "\n",
       "    .dataframe tbody tr th {\n",
       "        vertical-align: top;\n",
       "    }\n",
       "\n",
       "    .dataframe thead th {\n",
       "        text-align: right;\n",
       "    }\n",
       "</style>\n",
       "<table border=\"1\" class=\"dataframe\">\n",
       "  <thead>\n",
       "    <tr style=\"text-align: right;\">\n",
       "      <th></th>\n",
       "      <th>Unnamed: 0</th>\n",
       "      <th>Unnamed: 0.1</th>\n",
       "      <th>key</th>\n",
       "      <th>ID</th>\n",
       "      <th>create_date</th>\n",
       "      <th>user</th>\n",
       "      <th>userID</th>\n",
       "      <th>RT_TF</th>\n",
       "      <th>full_text</th>\n",
       "      <th>Sample.ID.x</th>\n",
       "      <th>...</th>\n",
       "      <th>Calling.Out.x</th>\n",
       "      <th>Calling.Out.y</th>\n",
       "      <th>Is.About.the.Holocaust.x</th>\n",
       "      <th>Is.About.the.Holocaust.y</th>\n",
       "      <th>IHRA.Section.x</th>\n",
       "      <th>IHRA.Section.y</th>\n",
       "      <th>sample_name</th>\n",
       "      <th>Is.About.The.Holocaust.x</th>\n",
       "      <th>Is.About.The.Holocaust.y</th>\n",
       "      <th>Target</th>\n",
       "    </tr>\n",
       "  </thead>\n",
       "  <tbody>\n",
       "    <tr>\n",
       "      <th>0</th>\n",
       "      <td>2454</td>\n",
       "      <td>2454</td>\n",
       "      <td>JewNAS</td>\n",
       "      <td>1.232290e+18</td>\n",
       "      <td>Tue Feb 25 07:54:26 -0500 2020</td>\n",
       "      <td>Leafy13222544</td>\n",
       "      <td>1.209270e+18</td>\n",
       "      <td>True</td>\n",
       "      <td>@ShaKeeL__007 @marksul44 @P3ng1z @BernieSander...</td>\n",
       "      <td>366</td>\n",
       "      <td>...</td>\n",
       "      <td>1</td>\n",
       "      <td>0</td>\n",
       "      <td>0.0</td>\n",
       "      <td>0.0</td>\n",
       "      <td>13</td>\n",
       "      <td>13</td>\n",
       "      <td>Jews2020Jan-Apr.rep2</td>\n",
       "      <td>NaN</td>\n",
       "      <td>NaN</td>\n",
       "      <td>0</td>\n",
       "    </tr>\n",
       "    <tr>\n",
       "      <th>1</th>\n",
       "      <td>870</td>\n",
       "      <td>870</td>\n",
       "      <td>JewAS</td>\n",
       "      <td>1.272910e+18</td>\n",
       "      <td>Tue Jun 16 11:13:24 -0400 2020</td>\n",
       "      <td>sharonka3</td>\n",
       "      <td>9.752547e+08</td>\n",
       "      <td>True</td>\n",
       "      <td>This is a perfect example of how Jews across N...</td>\n",
       "      <td>68</td>\n",
       "      <td>...</td>\n",
       "      <td>0</td>\n",
       "      <td>0</td>\n",
       "      <td>NaN</td>\n",
       "      <td>NaN</td>\n",
       "      <td>2</td>\n",
       "      <td>2</td>\n",
       "      <td>Jews2020May-Aug.rep1.rep1</td>\n",
       "      <td>0.0</td>\n",
       "      <td>0.0</td>\n",
       "      <td>1</td>\n",
       "    </tr>\n",
       "    <tr>\n",
       "      <th>2</th>\n",
       "      <td>763</td>\n",
       "      <td>763</td>\n",
       "      <td>JewAS</td>\n",
       "      <td>1.233040e+18</td>\n",
       "      <td>Thu Feb 27 09:53:39 -0500 2020</td>\n",
       "      <td>SpruceYelverton</td>\n",
       "      <td>1.114823e+09</td>\n",
       "      <td>True</td>\n",
       "      <td>Jews were the major cotton traders &amp;amp; had n...</td>\n",
       "      <td>49</td>\n",
       "      <td>...</td>\n",
       "      <td>0</td>\n",
       "      <td>0</td>\n",
       "      <td>0.0</td>\n",
       "      <td>0.0</td>\n",
       "      <td>2</td>\n",
       "      <td>2</td>\n",
       "      <td>Jews2020Jan-Apr.rep1</td>\n",
       "      <td>NaN</td>\n",
       "      <td>NaN</td>\n",
       "      <td>1</td>\n",
       "    </tr>\n",
       "    <tr>\n",
       "      <th>3</th>\n",
       "      <td>3744</td>\n",
       "      <td>3744</td>\n",
       "      <td>KikesAS</td>\n",
       "      <td>1.202940e+18</td>\n",
       "      <td>Fri Dec 06 08:25:54 -0500 2019</td>\n",
       "      <td>plive_calmer</td>\n",
       "      <td>8.404970e+17</td>\n",
       "      <td>False</td>\n",
       "      <td>🙊 I bet #randum The media's slanted view of ki...</td>\n",
       "      <td>45</td>\n",
       "      <td>...</td>\n",
       "      <td>1</td>\n",
       "      <td>1</td>\n",
       "      <td>0.0</td>\n",
       "      <td>0.0</td>\n",
       "      <td>0</td>\n",
       "      <td>0</td>\n",
       "      <td>kikes2019.rep1</td>\n",
       "      <td>NaN</td>\n",
       "      <td>NaN</td>\n",
       "      <td>1</td>\n",
       "    </tr>\n",
       "    <tr>\n",
       "      <th>4</th>\n",
       "      <td>1525</td>\n",
       "      <td>1525</td>\n",
       "      <td>JewNAS</td>\n",
       "      <td>1.168870e+18</td>\n",
       "      <td>Tue Sep 03 08:53:53 -0400 2019</td>\n",
       "      <td>emzeekg</td>\n",
       "      <td>2.975341e+09</td>\n",
       "      <td>True</td>\n",
       "      <td>21 year old Palestinian woman murdered by her ...</td>\n",
       "      <td>186</td>\n",
       "      <td>...</td>\n",
       "      <td>0</td>\n",
       "      <td>1</td>\n",
       "      <td>0.0</td>\n",
       "      <td>0.0</td>\n",
       "      <td>13</td>\n",
       "      <td>13</td>\n",
       "      <td>Jews2019.rep2</td>\n",
       "      <td>NaN</td>\n",
       "      <td>NaN</td>\n",
       "      <td>0</td>\n",
       "    </tr>\n",
       "    <tr>\n",
       "      <th>5</th>\n",
       "      <td>2363</td>\n",
       "      <td>2363</td>\n",
       "      <td>JewNAS</td>\n",
       "      <td>1.231520e+18</td>\n",
       "      <td>Sun Feb 23 05:09:05 -0500 2020</td>\n",
       "      <td>mksharma4269</td>\n",
       "      <td>4.355702e+09</td>\n",
       "      <td>True</td>\n",
       "      <td>Those who’ve read or watched on media the hist...</td>\n",
       "      <td>246</td>\n",
       "      <td>...</td>\n",
       "      <td>0</td>\n",
       "      <td>0</td>\n",
       "      <td>1.0</td>\n",
       "      <td>1.0</td>\n",
       "      <td>13</td>\n",
       "      <td>13</td>\n",
       "      <td>Jews2020Jan-Apr.rep2</td>\n",
       "      <td>NaN</td>\n",
       "      <td>NaN</td>\n",
       "      <td>0</td>\n",
       "    </tr>\n",
       "    <tr>\n",
       "      <th>6</th>\n",
       "      <td>1737</td>\n",
       "      <td>1737</td>\n",
       "      <td>JewNAS</td>\n",
       "      <td>1.110570e+18</td>\n",
       "      <td>Tue Mar 26 11:42:27 -0400 2019</td>\n",
       "      <td>DrKlep</td>\n",
       "      <td>2.481168e+07</td>\n",
       "      <td>True</td>\n",
       "      <td>In 2017, the Charlottesville rally of white su...</td>\n",
       "      <td>459</td>\n",
       "      <td>...</td>\n",
       "      <td>0</td>\n",
       "      <td>1</td>\n",
       "      <td>0.0</td>\n",
       "      <td>0.0</td>\n",
       "      <td>13</td>\n",
       "      <td>13</td>\n",
       "      <td>Jews2019.rep2</td>\n",
       "      <td>NaN</td>\n",
       "      <td>NaN</td>\n",
       "      <td>0</td>\n",
       "    </tr>\n",
       "    <tr>\n",
       "      <th>7</th>\n",
       "      <td>1436</td>\n",
       "      <td>1436</td>\n",
       "      <td>JewNAS</td>\n",
       "      <td>1.105120e+18</td>\n",
       "      <td>Mon Mar 11 11:02:53 -0400 2019</td>\n",
       "      <td>Noetic_Karma</td>\n",
       "      <td>5.166556e+07</td>\n",
       "      <td>False</td>\n",
       "      <td>Warning : Pakistan's state media have started ...</td>\n",
       "      <td>64</td>\n",
       "      <td>...</td>\n",
       "      <td>1</td>\n",
       "      <td>1</td>\n",
       "      <td>0.0</td>\n",
       "      <td>0.0</td>\n",
       "      <td>13</td>\n",
       "      <td>13</td>\n",
       "      <td>Jews2019.rep2</td>\n",
       "      <td>NaN</td>\n",
       "      <td>NaN</td>\n",
       "      <td>0</td>\n",
       "    </tr>\n",
       "    <tr>\n",
       "      <th>8</th>\n",
       "      <td>1322</td>\n",
       "      <td>1322</td>\n",
       "      <td>JewNAS</td>\n",
       "      <td>1.146550e+18</td>\n",
       "      <td>Wed Jul 03 18:34:35 -0400 2019</td>\n",
       "      <td>sagetwitting</td>\n",
       "      <td>3.257236e+09</td>\n",
       "      <td>True</td>\n",
       "      <td>Damn. What a statement.\\n\\n“Jews Against ICE: ...</td>\n",
       "      <td>408</td>\n",
       "      <td>...</td>\n",
       "      <td>0</td>\n",
       "      <td>0</td>\n",
       "      <td>1.0</td>\n",
       "      <td>0.0</td>\n",
       "      <td>13</td>\n",
       "      <td>13</td>\n",
       "      <td>Jews2019.rep1</td>\n",
       "      <td>NaN</td>\n",
       "      <td>NaN</td>\n",
       "      <td>0</td>\n",
       "    </tr>\n",
       "    <tr>\n",
       "      <th>9</th>\n",
       "      <td>1577</td>\n",
       "      <td>1577</td>\n",
       "      <td>JewNAS</td>\n",
       "      <td>1.115660e+18</td>\n",
       "      <td>Tue Apr 09 12:39:16 -0400 2019</td>\n",
       "      <td>Charlot38927993</td>\n",
       "      <td>2.793329e+09</td>\n",
       "      <td>True</td>\n",
       "      <td>“She (Congresswoman Omar) keeps on assaulting ...</td>\n",
       "      <td>250</td>\n",
       "      <td>...</td>\n",
       "      <td>0</td>\n",
       "      <td>0</td>\n",
       "      <td>0.0</td>\n",
       "      <td>0.0</td>\n",
       "      <td>13</td>\n",
       "      <td>13</td>\n",
       "      <td>Jews2019.rep2</td>\n",
       "      <td>NaN</td>\n",
       "      <td>NaN</td>\n",
       "      <td>0</td>\n",
       "    </tr>\n",
       "  </tbody>\n",
       "</table>\n",
       "<p>10 rows × 35 columns</p>\n",
       "</div>"
      ],
      "text/plain": [
       "   Unnamed: 0  Unnamed: 0.1      key            ID  \\\n",
       "0        2454          2454   JewNAS  1.232290e+18   \n",
       "1         870           870    JewAS  1.272910e+18   \n",
       "2         763           763    JewAS  1.233040e+18   \n",
       "3        3744          3744  KikesAS  1.202940e+18   \n",
       "4        1525          1525   JewNAS  1.168870e+18   \n",
       "5        2363          2363   JewNAS  1.231520e+18   \n",
       "6        1737          1737   JewNAS  1.110570e+18   \n",
       "7        1436          1436   JewNAS  1.105120e+18   \n",
       "8        1322          1322   JewNAS  1.146550e+18   \n",
       "9        1577          1577   JewNAS  1.115660e+18   \n",
       "\n",
       "                      create_date             user        userID  RT_TF  \\\n",
       "0  Tue Feb 25 07:54:26 -0500 2020    Leafy13222544  1.209270e+18   True   \n",
       "1  Tue Jun 16 11:13:24 -0400 2020        sharonka3  9.752547e+08   True   \n",
       "2  Thu Feb 27 09:53:39 -0500 2020  SpruceYelverton  1.114823e+09   True   \n",
       "3  Fri Dec 06 08:25:54 -0500 2019     plive_calmer  8.404970e+17  False   \n",
       "4  Tue Sep 03 08:53:53 -0400 2019          emzeekg  2.975341e+09   True   \n",
       "5  Sun Feb 23 05:09:05 -0500 2020     mksharma4269  4.355702e+09   True   \n",
       "6  Tue Mar 26 11:42:27 -0400 2019           DrKlep  2.481168e+07   True   \n",
       "7  Mon Mar 11 11:02:53 -0400 2019     Noetic_Karma  5.166556e+07  False   \n",
       "8  Wed Jul 03 18:34:35 -0400 2019     sagetwitting  3.257236e+09   True   \n",
       "9  Tue Apr 09 12:39:16 -0400 2019  Charlot38927993  2.793329e+09   True   \n",
       "\n",
       "                                           full_text  Sample.ID.x  ...  \\\n",
       "0  @ShaKeeL__007 @marksul44 @P3ng1z @BernieSander...          366  ...   \n",
       "1  This is a perfect example of how Jews across N...           68  ...   \n",
       "2  Jews were the major cotton traders &amp; had n...           49  ...   \n",
       "3  🙊 I bet #randum The media's slanted view of ki...           45  ...   \n",
       "4  21 year old Palestinian woman murdered by her ...          186  ...   \n",
       "5  Those who’ve read or watched on media the hist...          246  ...   \n",
       "6  In 2017, the Charlottesville rally of white su...          459  ...   \n",
       "7  Warning : Pakistan's state media have started ...           64  ...   \n",
       "8  Damn. What a statement.\\n\\n“Jews Against ICE: ...          408  ...   \n",
       "9  “She (Congresswoman Omar) keeps on assaulting ...          250  ...   \n",
       "\n",
       "   Calling.Out.x  Calling.Out.y  Is.About.the.Holocaust.x  \\\n",
       "0              1              0                       0.0   \n",
       "1              0              0                       NaN   \n",
       "2              0              0                       0.0   \n",
       "3              1              1                       0.0   \n",
       "4              0              1                       0.0   \n",
       "5              0              0                       1.0   \n",
       "6              0              1                       0.0   \n",
       "7              1              1                       0.0   \n",
       "8              0              0                       1.0   \n",
       "9              0              0                       0.0   \n",
       "\n",
       "   Is.About.the.Holocaust.y  IHRA.Section.x  IHRA.Section.y  \\\n",
       "0                       0.0              13              13   \n",
       "1                       NaN               2               2   \n",
       "2                       0.0               2               2   \n",
       "3                       0.0               0               0   \n",
       "4                       0.0              13              13   \n",
       "5                       1.0              13              13   \n",
       "6                       0.0              13              13   \n",
       "7                       0.0              13              13   \n",
       "8                       0.0              13              13   \n",
       "9                       0.0              13              13   \n",
       "\n",
       "                 sample_name Is.About.The.Holocaust.x  \\\n",
       "0       Jews2020Jan-Apr.rep2                      NaN   \n",
       "1  Jews2020May-Aug.rep1.rep1                      0.0   \n",
       "2       Jews2020Jan-Apr.rep1                      NaN   \n",
       "3             kikes2019.rep1                      NaN   \n",
       "4              Jews2019.rep2                      NaN   \n",
       "5       Jews2020Jan-Apr.rep2                      NaN   \n",
       "6              Jews2019.rep2                      NaN   \n",
       "7              Jews2019.rep2                      NaN   \n",
       "8              Jews2019.rep1                      NaN   \n",
       "9              Jews2019.rep2                      NaN   \n",
       "\n",
       "  Is.About.The.Holocaust.y Target  \n",
       "0                      NaN      0  \n",
       "1                      0.0      1  \n",
       "2                      NaN      1  \n",
       "3                      NaN      1  \n",
       "4                      NaN      0  \n",
       "5                      NaN      0  \n",
       "6                      NaN      0  \n",
       "7                      NaN      0  \n",
       "8                      NaN      0  \n",
       "9                      NaN      0  \n",
       "\n",
       "[10 rows x 35 columns]"
      ]
     },
     "execution_count": 48,
     "metadata": {},
     "output_type": "execute_result"
    }
   ],
   "source": [
    "df.head(10)"
   ]
  },
  {
   "cell_type": "code",
   "execution_count": 49,
   "id": "4f95e020",
   "metadata": {},
   "outputs": [
    {
     "data": {
      "text/html": [
       "<div>\n",
       "<style scoped>\n",
       "    .dataframe tbody tr th:only-of-type {\n",
       "        vertical-align: middle;\n",
       "    }\n",
       "\n",
       "    .dataframe tbody tr th {\n",
       "        vertical-align: top;\n",
       "    }\n",
       "\n",
       "    .dataframe thead th {\n",
       "        text-align: right;\n",
       "    }\n",
       "</style>\n",
       "<table border=\"1\" class=\"dataframe\">\n",
       "  <thead>\n",
       "    <tr style=\"text-align: right;\">\n",
       "      <th></th>\n",
       "      <th>Missing Values</th>\n",
       "      <th>per</th>\n",
       "      <th>Data Type</th>\n",
       "    </tr>\n",
       "  </thead>\n",
       "  <tbody>\n",
       "    <tr>\n",
       "      <th>Is.About.The.Holocaust.x</th>\n",
       "      <td>2264</td>\n",
       "      <td>70.37500</td>\n",
       "      <td>float16</td>\n",
       "    </tr>\n",
       "    <tr>\n",
       "      <th>Is.About.The.Holocaust.y</th>\n",
       "      <td>2264</td>\n",
       "      <td>70.37500</td>\n",
       "      <td>float16</td>\n",
       "    </tr>\n",
       "    <tr>\n",
       "      <th>Is.About.the.Holocaust.x</th>\n",
       "      <td>952</td>\n",
       "      <td>29.59375</td>\n",
       "      <td>float16</td>\n",
       "    </tr>\n",
       "    <tr>\n",
       "      <th>Is.About.the.Holocaust.y</th>\n",
       "      <td>952</td>\n",
       "      <td>29.59375</td>\n",
       "      <td>float16</td>\n",
       "    </tr>\n",
       "  </tbody>\n",
       "</table>\n",
       "</div>"
      ],
      "text/plain": [
       "                          Missing Values       per Data Type\n",
       "Is.About.The.Holocaust.x            2264  70.37500   float16\n",
       "Is.About.The.Holocaust.y            2264  70.37500   float16\n",
       "Is.About.the.Holocaust.x             952  29.59375   float16\n",
       "Is.About.the.Holocaust.y             952  29.59375   float16"
      ]
     },
     "execution_count": 49,
     "metadata": {},
     "output_type": "execute_result"
    }
   ],
   "source": [
    "def misval(df):\n",
    "        mis_val = df.isnull().sum()\n",
    "        mis_val_percent = 100 * df.isnull().sum() / len(df)\n",
    "        mis_val = pd.concat([mis_val, mis_val_percent], axis=1)\n",
    "        mis_val = mis_val.rename(\n",
    "        columns = {0 : 'Missing Values', 1 : 'per'})\n",
    "        mis_val['Data Type'] = df.dtypes\n",
    "        mis_val = mis_val[\n",
    "            mis_val.iloc[:,1] != 0].sort_values('per', ascending=False).round(1)\n",
    "        mis_val['per']=mis_val['per']\n",
    "        mis_val['per']=mis_val['per'].astype(np.float16)\n",
    "        \n",
    "        return mis_val\n",
    "\n",
    "sum_missing=misval(df)\n",
    "sum_missing"
   ]
  },
  {
   "cell_type": "markdown",
   "id": "0d640b25",
   "metadata": {},
   "source": [
    "## Correlation"
   ]
  },
  {
   "cell_type": "code",
   "execution_count": 50,
   "id": "80d443b7",
   "metadata": {},
   "outputs": [],
   "source": [
    "corr_mat = df.corr(method='pearson')\n",
    "upper_corr_mat = corr_mat.where(np.triu(np.ones(corr_mat.shape), k=1).astype(bool))\n",
    "unique_corr_pairs = upper_corr_mat.unstack().dropna()\n",
    "sorted_mat = unique_corr_pairs.sort_values()\n",
    "\n",
    "cm=pd.DataFrame(sorted_mat)\n",
    "cm=cm.loc[((cm[0]>-0.9) | (cm[0]<0.9)),:]\n",
    "# df[df.index.str.contains('foo')]\n",
    "cm.reset_index(inplace=True)"
   ]
  },
  {
   "cell_type": "code",
   "execution_count": 51,
   "id": "b792e6f4",
   "metadata": {},
   "outputs": [
    {
     "data": {
      "text/html": [
       "<div>\n",
       "<style scoped>\n",
       "    .dataframe tbody tr th:only-of-type {\n",
       "        vertical-align: middle;\n",
       "    }\n",
       "\n",
       "    .dataframe tbody tr th {\n",
       "        vertical-align: top;\n",
       "    }\n",
       "\n",
       "    .dataframe thead th {\n",
       "        text-align: right;\n",
       "    }\n",
       "</style>\n",
       "<table border=\"1\" class=\"dataframe\">\n",
       "  <thead>\n",
       "    <tr style=\"text-align: right;\">\n",
       "      <th></th>\n",
       "      <th>level_0</th>\n",
       "      <th>level_1</th>\n",
       "      <th>0</th>\n",
       "    </tr>\n",
       "  </thead>\n",
       "  <tbody>\n",
       "    <tr>\n",
       "      <th>0</th>\n",
       "      <td>Target</td>\n",
       "      <td>IHRA.Section.y</td>\n",
       "      <td>-0.872644</td>\n",
       "    </tr>\n",
       "    <tr>\n",
       "      <th>1</th>\n",
       "      <td>Target</td>\n",
       "      <td>IHRA.Section.x</td>\n",
       "      <td>-0.729260</td>\n",
       "    </tr>\n",
       "    <tr>\n",
       "      <th>2</th>\n",
       "      <td>Target</td>\n",
       "      <td>Sentiment.Rating.y</td>\n",
       "      <td>-0.723462</td>\n",
       "    </tr>\n",
       "    <tr>\n",
       "      <th>3</th>\n",
       "      <td>Target</td>\n",
       "      <td>Sentiment.Rating.x</td>\n",
       "      <td>-0.571269</td>\n",
       "    </tr>\n",
       "    <tr>\n",
       "      <th>4</th>\n",
       "      <td>Target</td>\n",
       "      <td>RT_TF</td>\n",
       "      <td>-0.281357</td>\n",
       "    </tr>\n",
       "    <tr>\n",
       "      <th>7</th>\n",
       "      <td>Target</td>\n",
       "      <td>Calling.Out.x</td>\n",
       "      <td>-0.198643</td>\n",
       "    </tr>\n",
       "    <tr>\n",
       "      <th>10</th>\n",
       "      <td>Target</td>\n",
       "      <td>Is.About.the.Holocaust.x</td>\n",
       "      <td>-0.161212</td>\n",
       "    </tr>\n",
       "    <tr>\n",
       "      <th>11</th>\n",
       "      <td>Target</td>\n",
       "      <td>ID</td>\n",
       "      <td>-0.157218</td>\n",
       "    </tr>\n",
       "    <tr>\n",
       "      <th>12</th>\n",
       "      <td>Target</td>\n",
       "      <td>Calling.Out.y</td>\n",
       "      <td>-0.148500</td>\n",
       "    </tr>\n",
       "    <tr>\n",
       "      <th>16</th>\n",
       "      <td>Target</td>\n",
       "      <td>Still.Exists.x</td>\n",
       "      <td>-0.124562</td>\n",
       "    </tr>\n",
       "    <tr>\n",
       "      <th>19</th>\n",
       "      <td>Target</td>\n",
       "      <td>Is.About.the.Holocaust.y</td>\n",
       "      <td>-0.122588</td>\n",
       "    </tr>\n",
       "    <tr>\n",
       "      <th>22</th>\n",
       "      <td>Target</td>\n",
       "      <td>Still.Exists.y</td>\n",
       "      <td>-0.115336</td>\n",
       "    </tr>\n",
       "    <tr>\n",
       "      <th>29</th>\n",
       "      <td>Target</td>\n",
       "      <td>Is.About.The.Holocaust.x</td>\n",
       "      <td>-0.077513</td>\n",
       "    </tr>\n",
       "    <tr>\n",
       "      <th>43</th>\n",
       "      <td>Target</td>\n",
       "      <td>Sample.ID.x</td>\n",
       "      <td>-0.055638</td>\n",
       "    </tr>\n",
       "    <tr>\n",
       "      <th>44</th>\n",
       "      <td>Target</td>\n",
       "      <td>Sample.ID.y</td>\n",
       "      <td>-0.055638</td>\n",
       "    </tr>\n",
       "    <tr>\n",
       "      <th>53</th>\n",
       "      <td>Target</td>\n",
       "      <td>Disagree.With.x</td>\n",
       "      <td>-0.047500</td>\n",
       "    </tr>\n",
       "    <tr>\n",
       "      <th>67</th>\n",
       "      <td>Target</td>\n",
       "      <td>Sarcasm.x</td>\n",
       "      <td>-0.032951</td>\n",
       "    </tr>\n",
       "    <tr>\n",
       "      <th>78</th>\n",
       "      <td>Target</td>\n",
       "      <td>Is.About.The.Holocaust.y</td>\n",
       "      <td>-0.022162</td>\n",
       "    </tr>\n",
       "    <tr>\n",
       "      <th>83</th>\n",
       "      <td>Target</td>\n",
       "      <td>Sarcasm.y</td>\n",
       "      <td>-0.017971</td>\n",
       "    </tr>\n",
       "    <tr>\n",
       "      <th>89</th>\n",
       "      <td>Target</td>\n",
       "      <td>Disagree.With.y</td>\n",
       "      <td>-0.016569</td>\n",
       "    </tr>\n",
       "    <tr>\n",
       "      <th>215</th>\n",
       "      <td>Target</td>\n",
       "      <td>userID</td>\n",
       "      <td>0.088735</td>\n",
       "    </tr>\n",
       "    <tr>\n",
       "      <th>241</th>\n",
       "      <td>Target</td>\n",
       "      <td>Unnamed: 0.1</td>\n",
       "      <td>0.163121</td>\n",
       "    </tr>\n",
       "    <tr>\n",
       "      <th>242</th>\n",
       "      <td>Target</td>\n",
       "      <td>Unnamed: 0</td>\n",
       "      <td>0.163121</td>\n",
       "    </tr>\n",
       "  </tbody>\n",
       "</table>\n",
       "</div>"
      ],
      "text/plain": [
       "    level_0                   level_1         0\n",
       "0    Target            IHRA.Section.y -0.872644\n",
       "1    Target            IHRA.Section.x -0.729260\n",
       "2    Target        Sentiment.Rating.y -0.723462\n",
       "3    Target        Sentiment.Rating.x -0.571269\n",
       "4    Target                     RT_TF -0.281357\n",
       "7    Target             Calling.Out.x -0.198643\n",
       "10   Target  Is.About.the.Holocaust.x -0.161212\n",
       "11   Target                        ID -0.157218\n",
       "12   Target             Calling.Out.y -0.148500\n",
       "16   Target            Still.Exists.x -0.124562\n",
       "19   Target  Is.About.the.Holocaust.y -0.122588\n",
       "22   Target            Still.Exists.y -0.115336\n",
       "29   Target  Is.About.The.Holocaust.x -0.077513\n",
       "43   Target               Sample.ID.x -0.055638\n",
       "44   Target               Sample.ID.y -0.055638\n",
       "53   Target           Disagree.With.x -0.047500\n",
       "67   Target                 Sarcasm.x -0.032951\n",
       "78   Target  Is.About.The.Holocaust.y -0.022162\n",
       "83   Target                 Sarcasm.y -0.017971\n",
       "89   Target           Disagree.With.y -0.016569\n",
       "215  Target                    userID  0.088735\n",
       "241  Target              Unnamed: 0.1  0.163121\n",
       "242  Target                Unnamed: 0  0.163121"
      ]
     },
     "execution_count": 51,
     "metadata": {},
     "output_type": "execute_result"
    }
   ],
   "source": [
    "cm[cm['level_0'].str.contains('Target') | cm['level_1'].str.contains('Target') ]"
   ]
  },
  {
   "cell_type": "markdown",
   "id": "e5d6a562",
   "metadata": {},
   "source": [
    "# Pipeline"
   ]
  },
  {
   "cell_type": "code",
   "execution_count": 52,
   "id": "9cd6fb39",
   "metadata": {},
   "outputs": [],
   "source": [
    "class DataFrameSelector(BaseEstimator, TransformerMixin):\n",
    "    def __init__(self, attribute_names):\n",
    "        self.attribute_names = attribute_names\n",
    "    def fit(self, X, y=None):\n",
    "        return self\n",
    "    def transform(self, X):\n",
    "        return X[self.attribute_names].values\n",
    "\n",
    "class Imputewithother(BaseEstimator, TransformerMixin):\n",
    "    def __init__(self):\n",
    "        super()\n",
    "    def fit(self, X, y=None):\n",
    "        return self\n",
    "    def transform(self, X):\n",
    "        X=pd.DataFrame(X,columns=['a','b','c','d'])\n",
    "        h1,h2,h3,h4='a','b','c','d'\n",
    "        X[h1].fillna(X[h3],inplace=True)\n",
    "        X[h2].fillna(X[h4],inplace=True)\n",
    "        X.drop(columns=['c','d'],inplace=True)\n",
    "        return X.values"
   ]
  },
  {
   "cell_type": "code",
   "execution_count": 53,
   "id": "90b98f78",
   "metadata": {},
   "outputs": [],
   "source": [
    "y=df['Target']\n",
    "X=df.drop(['Target'],axis=1)\n",
    "X_train, X_test, y_train, y_test = train_test_split(X, y, test_size=0.20, random_state=42,stratify=y)"
   ]
  },
  {
   "cell_type": "code",
   "execution_count": 54,
   "id": "3f73771f",
   "metadata": {},
   "outputs": [
    {
     "name": "stdout",
     "output_type": "stream",
     "text": [
      "['Unnamed: 0', 'Unnamed: 0.1', 'ID', 'userID', 'RT_TF', 'Sample.ID.x', 'Sample.ID.y', 'Still.Exists.x', 'Still.Exists.y', 'In.English.x', 'In.English.y', 'Sarcasm.x', 'Sarcasm.y', 'Disagree.With.x', 'Disagree.With.y', 'Sentiment.Rating.x', 'Sentiment.Rating.y', 'Calling.Out.x', 'Calling.Out.y', 'Is.About.the.Holocaust.x', 'Is.About.the.Holocaust.y', 'IHRA.Section.x', 'IHRA.Section.y', 'Is.About.The.Holocaust.x', 'Is.About.The.Holocaust.y'] \n",
      "\n",
      "['user', 'User.x', 'Additional.Comments.y', 'User.y', 'sample_name', 'create_date', 'key', 'full_text', 'Additional.Comments.x']\n"
     ]
    }
   ],
   "source": [
    "num_cols =list(X_train._get_numeric_data().columns)\n",
    "catcols=list(set(X_train.columns) - set(num_cols))\n",
    "print(num_cols,\"\\n\")\n",
    "print(catcols)"
   ]
  },
  {
   "cell_type": "code",
   "execution_count": 55,
   "id": "f659da3e",
   "metadata": {},
   "outputs": [
    {
     "data": {
      "text/plain": [
       "[(0, 'Unnamed: 0'),\n",
       " (1, 'Unnamed: 0.1'),\n",
       " (2, 'key'),\n",
       " (3, 'ID'),\n",
       " (4, 'create_date'),\n",
       " (5, 'user'),\n",
       " (6, 'userID'),\n",
       " (7, 'RT_TF'),\n",
       " (8, 'full_text'),\n",
       " (9, 'Sample.ID.x'),\n",
       " (10, 'Sample.ID.y'),\n",
       " (11, 'Still.Exists.x'),\n",
       " (12, 'Still.Exists.y'),\n",
       " (13, 'In.English.x'),\n",
       " (14, 'In.English.y'),\n",
       " (15, 'Sarcasm.x'),\n",
       " (16, 'Sarcasm.y'),\n",
       " (17, 'Additional.Comments.x'),\n",
       " (18, 'Additional.Comments.y'),\n",
       " (19, 'User.x'),\n",
       " (20, 'User.y'),\n",
       " (21, 'Disagree.With.x'),\n",
       " (22, 'Disagree.With.y'),\n",
       " (23, 'Sentiment.Rating.x'),\n",
       " (24, 'Sentiment.Rating.y'),\n",
       " (25, 'Calling.Out.x'),\n",
       " (26, 'Calling.Out.y'),\n",
       " (27, 'Is.About.the.Holocaust.x'),\n",
       " (28, 'Is.About.the.Holocaust.y'),\n",
       " (29, 'IHRA.Section.x'),\n",
       " (30, 'IHRA.Section.y'),\n",
       " (31, 'sample_name'),\n",
       " (32, 'Is.About.The.Holocaust.x'),\n",
       " (33, 'Is.About.The.Holocaust.y')]"
      ]
     },
     "execution_count": 55,
     "metadata": {},
     "output_type": "execute_result"
    }
   ],
   "source": [
    "[(i,v) for i,v in enumerate(list(X_train.columns))]"
   ]
  },
  {
   "cell_type": "code",
   "execution_count": 112,
   "id": "acc7a912",
   "metadata": {},
   "outputs": [],
   "source": [
    "pipedefault =['RT_TF','Still.Exists.x','Still.Exists.y','Sarcasm.x','Sarcasm.y','Disagree.With.x','Disagree.With.y',\n",
    "              'Sentiment.Rating.x','Sentiment.Rating.y','Calling.Out.x','Calling.Out.y']\n",
    "\n",
    "pipefilter1 = ['Is.About.the.Holocaust.x', 'Is.About.the.Holocaust.y','Is.About.The.Holocaust.x', 'Is.About.The.Holocaust.y']\n",
    "pipefilter2 = ['IHRA.Section.x','IHRA.Section.y','sample_name','key']\n",
    "# pipefilter2 = ['IHRA.Section.x','IHRA.Section.y','sample_name']\n",
    "\n",
    "pipe0 = Pipeline([\n",
    "        ('selector', DataFrameSelector(pipedefault)),\n",
    "    ])\n",
    "\n",
    "pipe1 = Pipeline([\n",
    "        ('selector', DataFrameSelector(pipefilter1)),\n",
    "        ('Imputewithother', Imputewithother()),\n",
    "        ('imputer', SimpleImputer(strategy='median')),\n",
    "    ])\n",
    "\n",
    "pipe2 = Pipeline([\n",
    "        ('selector', DataFrameSelector(pipefilter2)),\n",
    "        #('imputer', SimpleImputer(strategy='most_frequent')),\n",
    "        ('ohe', OneHotEncoder(sparse=False, handle_unknown=\"ignore\"))\n",
    "    ])\n",
    "\n",
    "data_prep_pipeline = FeatureUnion(transformer_list=[\n",
    "        (\"pipe0\", pipe0),\n",
    "        (\"pipe1\", pipe1),\n",
    "        (\"pipe2\", pipe2),\n",
    "    ])"
   ]
  },
  {
   "cell_type": "code",
   "execution_count": 57,
   "id": "2a0a5801",
   "metadata": {},
   "outputs": [
    {
     "data": {
      "text/plain": [
       "148"
      ]
     },
     "execution_count": 57,
     "metadata": {},
     "output_type": "execute_result"
    }
   ],
   "source": [
    "gc.collect()"
   ]
  },
  {
   "cell_type": "code",
   "execution_count": 113,
   "id": "f855f01c",
   "metadata": {},
   "outputs": [],
   "source": [
    "try:\n",
    "    expLog\n",
    "    del expLog\n",
    "    expLog\n",
    "except NameError:\n",
    "    expLog = pd.DataFrame(columns=[\"exp_name\", \n",
    "                                   \"Train Acc\", \n",
    "                                   \"Test  Acc\",\n",
    "                                   \"Train AUC\", \n",
    "                                   \"Test  AUC\",\n",
    "                                   \"Train F1\",\n",
    "                                   \"Test F1\",\n",
    "                                   \"best_score\"\n",
    "                                  ])"
   ]
  },
  {
   "cell_type": "code",
   "execution_count": 114,
   "id": "426e0304",
   "metadata": {},
   "outputs": [],
   "source": [
    "def addresultotable(model,name):\n",
    "    exp_name = name\n",
    "    expLog.loc[len(expLog)] = [f\"{exp_name}\"] + list(np.round(\n",
    "                   [accuracy_score(y_train, model.predict(X_train)), \n",
    "                    accuracy_score(y_test, model.predict(X_test)),\n",
    "                    roc_auc_score(y_train, model.predict(X_train)),\n",
    "                    roc_auc_score(y_test, model.predict(X_test)),\n",
    "                    f1_score(y_train, model.predict(X_train), average='weighted'),\n",
    "                    f1_score(y_test, model.predict(X_test), average='weighted'),\n",
    "                   model.best_score_],\n",
    "        4)) \n",
    "    \n",
    "def plotConf(model):\n",
    "    plt.clf()\n",
    "    plot_confusion_matrix(model, X_train, y_train)\n",
    "    plt.title('Confusion Matrix ')\n",
    "    plt.show()\n",
    "\n",
    "def plotROC(model):\n",
    "    RocCurveDisplay.from_predictions(y_test, model.predict(X_test))\n",
    "    plt.show()\n",
    "\n",
    "def trainmodel(regressor,datapipeline,paramgrid,scoring):\n",
    "    pipe = Pipeline([\n",
    "        (\"preparation\", datapipeline),\n",
    "        (\"reg\", regressor)\n",
    "    ])\n",
    "    model=RandomizedSearchCV(pipe,param_distributions=paramgrid,n_iter=10,scoring=scoring,n_jobs=-1,cv=5,verbose=2)\n",
    "    model.fit(X_train,y_train)\n",
    "    return model"
   ]
  },
  {
   "cell_type": "code",
   "execution_count": 115,
   "id": "ae87f99c",
   "metadata": {},
   "outputs": [],
   "source": [
    "MODELS={}"
   ]
  },
  {
   "cell_type": "markdown",
   "id": "f21a3cfe",
   "metadata": {},
   "source": [
    "# XGBoost"
   ]
  },
  {
   "cell_type": "code",
   "execution_count": 116,
   "id": "cc381f4e",
   "metadata": {},
   "outputs": [
    {
     "name": "stdout",
     "output_type": "stream",
     "text": [
      "Fitting 5 folds for each of 10 candidates, totalling 50 fits\n"
     ]
    },
    {
     "name": "stderr",
     "output_type": "stream",
     "text": [
      "C:\\Users\\prath\\AppData\\Roaming\\Python\\Python38\\site-packages\\sklearn\\ensemble\\_gb.py:1284: FutureWarning: criterion='mae' was deprecated in version 0.24 and will be removed in version 1.1 (renaming of 0.26). Use criterion='friedman_mse' or 'squared_error' instead, as trees should use a squared error criterion in Gradient Boosting.\n",
      "  warnings.warn(\n",
      "C:\\Users\\prath\\AppData\\Roaming\\Python\\Python38\\site-packages\\sklearn\\tree\\_classes.py:366: FutureWarning: Criterion 'mae' was deprecated in v1.0 and will be removed in version 1.2. Use `criterion='absolute_error'` which is equivalent.\n",
      "  warnings.warn(\n",
      "C:\\Users\\prath\\AppData\\Roaming\\Python\\Python38\\site-packages\\sklearn\\tree\\_classes.py:366: FutureWarning: Criterion 'mae' was deprecated in v1.0 and will be removed in version 1.2. Use `criterion='absolute_error'` which is equivalent.\n",
      "  warnings.warn(\n",
      "C:\\Users\\prath\\AppData\\Roaming\\Python\\Python38\\site-packages\\sklearn\\tree\\_classes.py:366: FutureWarning: Criterion 'mae' was deprecated in v1.0 and will be removed in version 1.2. Use `criterion='absolute_error'` which is equivalent.\n",
      "  warnings.warn(\n",
      "C:\\Users\\prath\\AppData\\Roaming\\Python\\Python38\\site-packages\\sklearn\\tree\\_classes.py:366: FutureWarning: Criterion 'mae' was deprecated in v1.0 and will be removed in version 1.2. Use `criterion='absolute_error'` which is equivalent.\n",
      "  warnings.warn(\n",
      "C:\\Users\\prath\\AppData\\Roaming\\Python\\Python38\\site-packages\\sklearn\\tree\\_classes.py:366: FutureWarning: Criterion 'mae' was deprecated in v1.0 and will be removed in version 1.2. Use `criterion='absolute_error'` which is equivalent.\n",
      "  warnings.warn(\n",
      "C:\\Users\\prath\\AppData\\Roaming\\Python\\Python38\\site-packages\\sklearn\\tree\\_classes.py:366: FutureWarning: Criterion 'mae' was deprecated in v1.0 and will be removed in version 1.2. Use `criterion='absolute_error'` which is equivalent.\n",
      "  warnings.warn(\n",
      "C:\\Users\\prath\\AppData\\Roaming\\Python\\Python38\\site-packages\\sklearn\\tree\\_classes.py:366: FutureWarning: Criterion 'mae' was deprecated in v1.0 and will be removed in version 1.2. Use `criterion='absolute_error'` which is equivalent.\n",
      "  warnings.warn(\n",
      "C:\\Users\\prath\\AppData\\Roaming\\Python\\Python38\\site-packages\\sklearn\\tree\\_classes.py:366: FutureWarning: Criterion 'mae' was deprecated in v1.0 and will be removed in version 1.2. Use `criterion='absolute_error'` which is equivalent.\n",
      "  warnings.warn(\n",
      "C:\\Users\\prath\\AppData\\Roaming\\Python\\Python38\\site-packages\\sklearn\\tree\\_classes.py:366: FutureWarning: Criterion 'mae' was deprecated in v1.0 and will be removed in version 1.2. Use `criterion='absolute_error'` which is equivalent.\n",
      "  warnings.warn(\n",
      "C:\\Users\\prath\\AppData\\Roaming\\Python\\Python38\\site-packages\\sklearn\\tree\\_classes.py:366: FutureWarning: Criterion 'mae' was deprecated in v1.0 and will be removed in version 1.2. Use `criterion='absolute_error'` which is equivalent.\n",
      "  warnings.warn(\n",
      "C:\\Users\\prath\\AppData\\Roaming\\Python\\Python38\\site-packages\\sklearn\\tree\\_classes.py:366: FutureWarning: Criterion 'mae' was deprecated in v1.0 and will be removed in version 1.2. Use `criterion='absolute_error'` which is equivalent.\n",
      "  warnings.warn(\n",
      "C:\\Users\\prath\\AppData\\Roaming\\Python\\Python38\\site-packages\\sklearn\\tree\\_classes.py:366: FutureWarning: Criterion 'mae' was deprecated in v1.0 and will be removed in version 1.2. Use `criterion='absolute_error'` which is equivalent.\n",
      "  warnings.warn(\n",
      "C:\\Users\\prath\\AppData\\Roaming\\Python\\Python38\\site-packages\\sklearn\\tree\\_classes.py:366: FutureWarning: Criterion 'mae' was deprecated in v1.0 and will be removed in version 1.2. Use `criterion='absolute_error'` which is equivalent.\n",
      "  warnings.warn(\n",
      "C:\\Users\\prath\\AppData\\Roaming\\Python\\Python38\\site-packages\\sklearn\\tree\\_classes.py:366: FutureWarning: Criterion 'mae' was deprecated in v1.0 and will be removed in version 1.2. Use `criterion='absolute_error'` which is equivalent.\n",
      "  warnings.warn(\n",
      "C:\\Users\\prath\\AppData\\Roaming\\Python\\Python38\\site-packages\\sklearn\\tree\\_classes.py:366: FutureWarning: Criterion 'mae' was deprecated in v1.0 and will be removed in version 1.2. Use `criterion='absolute_error'` which is equivalent.\n",
      "  warnings.warn(\n",
      "C:\\Users\\prath\\AppData\\Roaming\\Python\\Python38\\site-packages\\sklearn\\tree\\_classes.py:366: FutureWarning: Criterion 'mae' was deprecated in v1.0 and will be removed in version 1.2. Use `criterion='absolute_error'` which is equivalent.\n",
      "  warnings.warn(\n",
      "C:\\Users\\prath\\AppData\\Roaming\\Python\\Python38\\site-packages\\sklearn\\tree\\_classes.py:366: FutureWarning: Criterion 'mae' was deprecated in v1.0 and will be removed in version 1.2. Use `criterion='absolute_error'` which is equivalent.\n",
      "  warnings.warn(\n",
      "C:\\Users\\prath\\AppData\\Roaming\\Python\\Python38\\site-packages\\sklearn\\tree\\_classes.py:366: FutureWarning: Criterion 'mae' was deprecated in v1.0 and will be removed in version 1.2. Use `criterion='absolute_error'` which is equivalent.\n",
      "  warnings.warn(\n",
      "C:\\Users\\prath\\AppData\\Roaming\\Python\\Python38\\site-packages\\sklearn\\tree\\_classes.py:366: FutureWarning: Criterion 'mae' was deprecated in v1.0 and will be removed in version 1.2. Use `criterion='absolute_error'` which is equivalent.\n",
      "  warnings.warn(\n",
      "C:\\Users\\prath\\AppData\\Roaming\\Python\\Python38\\site-packages\\sklearn\\tree\\_classes.py:366: FutureWarning: Criterion 'mae' was deprecated in v1.0 and will be removed in version 1.2. Use `criterion='absolute_error'` which is equivalent.\n",
      "  warnings.warn(\n",
      "C:\\Users\\prath\\AppData\\Roaming\\Python\\Python38\\site-packages\\sklearn\\tree\\_classes.py:366: FutureWarning: Criterion 'mae' was deprecated in v1.0 and will be removed in version 1.2. Use `criterion='absolute_error'` which is equivalent.\n",
      "  warnings.warn(\n",
      "C:\\Users\\prath\\AppData\\Roaming\\Python\\Python38\\site-packages\\sklearn\\tree\\_classes.py:366: FutureWarning: Criterion 'mae' was deprecated in v1.0 and will be removed in version 1.2. Use `criterion='absolute_error'` which is equivalent.\n",
      "  warnings.warn(\n",
      "C:\\Users\\prath\\AppData\\Roaming\\Python\\Python38\\site-packages\\sklearn\\tree\\_classes.py:366: FutureWarning: Criterion 'mae' was deprecated in v1.0 and will be removed in version 1.2. Use `criterion='absolute_error'` which is equivalent.\n",
      "  warnings.warn(\n",
      "C:\\Users\\prath\\AppData\\Roaming\\Python\\Python38\\site-packages\\sklearn\\tree\\_classes.py:366: FutureWarning: Criterion 'mae' was deprecated in v1.0 and will be removed in version 1.2. Use `criterion='absolute_error'` which is equivalent.\n",
      "  warnings.warn(\n",
      "C:\\Users\\prath\\AppData\\Roaming\\Python\\Python38\\site-packages\\sklearn\\tree\\_classes.py:366: FutureWarning: Criterion 'mae' was deprecated in v1.0 and will be removed in version 1.2. Use `criterion='absolute_error'` which is equivalent.\n",
      "  warnings.warn(\n",
      "C:\\Users\\prath\\AppData\\Roaming\\Python\\Python38\\site-packages\\sklearn\\tree\\_classes.py:366: FutureWarning: Criterion 'mae' was deprecated in v1.0 and will be removed in version 1.2. Use `criterion='absolute_error'` which is equivalent.\n",
      "  warnings.warn(\n",
      "C:\\Users\\prath\\AppData\\Roaming\\Python\\Python38\\site-packages\\sklearn\\tree\\_classes.py:366: FutureWarning: Criterion 'mae' was deprecated in v1.0 and will be removed in version 1.2. Use `criterion='absolute_error'` which is equivalent.\n",
      "  warnings.warn(\n",
      "C:\\Users\\prath\\AppData\\Roaming\\Python\\Python38\\site-packages\\sklearn\\tree\\_classes.py:366: FutureWarning: Criterion 'mae' was deprecated in v1.0 and will be removed in version 1.2. Use `criterion='absolute_error'` which is equivalent.\n",
      "  warnings.warn(\n",
      "C:\\Users\\prath\\AppData\\Roaming\\Python\\Python38\\site-packages\\sklearn\\tree\\_classes.py:366: FutureWarning: Criterion 'mae' was deprecated in v1.0 and will be removed in version 1.2. Use `criterion='absolute_error'` which is equivalent.\n",
      "  warnings.warn(\n",
      "C:\\Users\\prath\\AppData\\Roaming\\Python\\Python38\\site-packages\\sklearn\\tree\\_classes.py:366: FutureWarning: Criterion 'mae' was deprecated in v1.0 and will be removed in version 1.2. Use `criterion='absolute_error'` which is equivalent.\n",
      "  warnings.warn(\n",
      "C:\\Users\\prath\\AppData\\Roaming\\Python\\Python38\\site-packages\\sklearn\\tree\\_classes.py:366: FutureWarning: Criterion 'mae' was deprecated in v1.0 and will be removed in version 1.2. Use `criterion='absolute_error'` which is equivalent.\n",
      "  warnings.warn(\n",
      "C:\\Users\\prath\\AppData\\Roaming\\Python\\Python38\\site-packages\\sklearn\\tree\\_classes.py:366: FutureWarning: Criterion 'mae' was deprecated in v1.0 and will be removed in version 1.2. Use `criterion='absolute_error'` which is equivalent.\n",
      "  warnings.warn(\n",
      "C:\\Users\\prath\\AppData\\Roaming\\Python\\Python38\\site-packages\\sklearn\\tree\\_classes.py:366: FutureWarning: Criterion 'mae' was deprecated in v1.0 and will be removed in version 1.2. Use `criterion='absolute_error'` which is equivalent.\n",
      "  warnings.warn(\n",
      "C:\\Users\\prath\\AppData\\Roaming\\Python\\Python38\\site-packages\\sklearn\\tree\\_classes.py:366: FutureWarning: Criterion 'mae' was deprecated in v1.0 and will be removed in version 1.2. Use `criterion='absolute_error'` which is equivalent.\n",
      "  warnings.warn(\n",
      "C:\\Users\\prath\\AppData\\Roaming\\Python\\Python38\\site-packages\\sklearn\\tree\\_classes.py:366: FutureWarning: Criterion 'mae' was deprecated in v1.0 and will be removed in version 1.2. Use `criterion='absolute_error'` which is equivalent.\n",
      "  warnings.warn(\n",
      "C:\\Users\\prath\\AppData\\Roaming\\Python\\Python38\\site-packages\\sklearn\\tree\\_classes.py:366: FutureWarning: Criterion 'mae' was deprecated in v1.0 and will be removed in version 1.2. Use `criterion='absolute_error'` which is equivalent.\n",
      "  warnings.warn(\n",
      "C:\\Users\\prath\\AppData\\Roaming\\Python\\Python38\\site-packages\\sklearn\\tree\\_classes.py:366: FutureWarning: Criterion 'mae' was deprecated in v1.0 and will be removed in version 1.2. Use `criterion='absolute_error'` which is equivalent.\n",
      "  warnings.warn(\n",
      "C:\\Users\\prath\\AppData\\Roaming\\Python\\Python38\\site-packages\\sklearn\\tree\\_classes.py:366: FutureWarning: Criterion 'mae' was deprecated in v1.0 and will be removed in version 1.2. Use `criterion='absolute_error'` which is equivalent.\n",
      "  warnings.warn(\n",
      "C:\\Users\\prath\\AppData\\Roaming\\Python\\Python38\\site-packages\\sklearn\\tree\\_classes.py:366: FutureWarning: Criterion 'mae' was deprecated in v1.0 and will be removed in version 1.2. Use `criterion='absolute_error'` which is equivalent.\n",
      "  warnings.warn(\n",
      "C:\\Users\\prath\\AppData\\Roaming\\Python\\Python38\\site-packages\\sklearn\\tree\\_classes.py:366: FutureWarning: Criterion 'mae' was deprecated in v1.0 and will be removed in version 1.2. Use `criterion='absolute_error'` which is equivalent.\n",
      "  warnings.warn(\n",
      "C:\\Users\\prath\\AppData\\Roaming\\Python\\Python38\\site-packages\\sklearn\\tree\\_classes.py:366: FutureWarning: Criterion 'mae' was deprecated in v1.0 and will be removed in version 1.2. Use `criterion='absolute_error'` which is equivalent.\n",
      "  warnings.warn(\n",
      "C:\\Users\\prath\\AppData\\Roaming\\Python\\Python38\\site-packages\\sklearn\\tree\\_classes.py:366: FutureWarning: Criterion 'mae' was deprecated in v1.0 and will be removed in version 1.2. Use `criterion='absolute_error'` which is equivalent.\n",
      "  warnings.warn(\n",
      "C:\\Users\\prath\\AppData\\Roaming\\Python\\Python38\\site-packages\\sklearn\\tree\\_classes.py:366: FutureWarning: Criterion 'mae' was deprecated in v1.0 and will be removed in version 1.2. Use `criterion='absolute_error'` which is equivalent.\n",
      "  warnings.warn(\n",
      "C:\\Users\\prath\\AppData\\Roaming\\Python\\Python38\\site-packages\\sklearn\\tree\\_classes.py:366: FutureWarning: Criterion 'mae' was deprecated in v1.0 and will be removed in version 1.2. Use `criterion='absolute_error'` which is equivalent.\n",
      "  warnings.warn(\n",
      "C:\\Users\\prath\\AppData\\Roaming\\Python\\Python38\\site-packages\\sklearn\\tree\\_classes.py:366: FutureWarning: Criterion 'mae' was deprecated in v1.0 and will be removed in version 1.2. Use `criterion='absolute_error'` which is equivalent.\n",
      "  warnings.warn(\n",
      "C:\\Users\\prath\\AppData\\Roaming\\Python\\Python38\\site-packages\\sklearn\\tree\\_classes.py:366: FutureWarning: Criterion 'mae' was deprecated in v1.0 and will be removed in version 1.2. Use `criterion='absolute_error'` which is equivalent.\n",
      "  warnings.warn(\n",
      "C:\\Users\\prath\\AppData\\Roaming\\Python\\Python38\\site-packages\\sklearn\\tree\\_classes.py:366: FutureWarning: Criterion 'mae' was deprecated in v1.0 and will be removed in version 1.2. Use `criterion='absolute_error'` which is equivalent.\n",
      "  warnings.warn(\n",
      "C:\\Users\\prath\\AppData\\Roaming\\Python\\Python38\\site-packages\\sklearn\\tree\\_classes.py:366: FutureWarning: Criterion 'mae' was deprecated in v1.0 and will be removed in version 1.2. Use `criterion='absolute_error'` which is equivalent.\n",
      "  warnings.warn(\n",
      "C:\\Users\\prath\\AppData\\Roaming\\Python\\Python38\\site-packages\\sklearn\\tree\\_classes.py:366: FutureWarning: Criterion 'mae' was deprecated in v1.0 and will be removed in version 1.2. Use `criterion='absolute_error'` which is equivalent.\n",
      "  warnings.warn(\n",
      "C:\\Users\\prath\\AppData\\Roaming\\Python\\Python38\\site-packages\\sklearn\\tree\\_classes.py:366: FutureWarning: Criterion 'mae' was deprecated in v1.0 and will be removed in version 1.2. Use `criterion='absolute_error'` which is equivalent.\n",
      "  warnings.warn(\n"
     ]
    },
    {
     "data": {
      "image/png": "[encoded data removed]",
      "text/plain": [
       "<Figure size 432x288 with 1 Axes>"
      ]
     },
     "metadata": {
      "needs_background": "light"
     },
     "output_type": "display_data"
    },
    {
     "name": "stderr",
     "output_type": "stream",
     "text": [
      "C:\\Users\\prath\\AppData\\Roaming\\Python\\Python38\\site-packages\\sklearn\\utils\\deprecation.py:87: FutureWarning: Function plot_confusion_matrix is deprecated; Function `plot_confusion_matrix` is deprecated in 1.0 and will be removed in 1.2. Use one of the class methods: ConfusionMatrixDisplay.from_predictions or ConfusionMatrixDisplay.from_estimator.\n",
      "  warnings.warn(msg, category=FutureWarning)\n"
     ]
    },
    {
     "data": {
      "text/plain": [
       "<Figure size 432x288 with 0 Axes>"
      ]
     },
     "metadata": {},
     "output_type": "display_data"
    },
    {
     "data": {
      "image/png": "[encoded data removed]",
      "text/plain": [
       "<Figure size 432x288 with 2 Axes>"
      ]
     },
     "metadata": {
      "needs_background": "light"
     },
     "output_type": "display_data"
    }
   ],
   "source": [
    "parameters = {\n",
    "    \"reg__loss\":[\"deviance\"],\n",
    "    \"reg__learning_rate\": [0.01, 0.025, 0.05, 0.075, 0.1, 0.15, 0.2],\n",
    "    \"reg__min_samples_split\": np.linspace(0.1, 0.5, 12),\n",
    "    \"reg__min_samples_leaf\": np.linspace(0.1, 0.5, 12),\n",
    "    \"reg__max_depth\":[3,5,8],\n",
    "    \"reg__max_features\":[\"log2\",\"sqrt\"],\n",
    "    \"reg__criterion\": [\"friedman_mse\",  \"mae\"],\n",
    "    \"reg__subsample\":[0.5,1.0],\n",
    "    \"reg__n_estimators\":[10,50,100]\n",
    "    }\n",
    "\n",
    "model=trainmodel(GradientBoostingClassifier(),data_prep_pipeline,parameters,'accuracy')\n",
    "addresultotable(model,\"XGB\")\n",
    "\n",
    "plotROC(model)\n",
    "plotConf(model)"
   ]
  },
  {
   "cell_type": "code",
   "execution_count": 117,
   "id": "cac1e61b",
   "metadata": {},
   "outputs": [],
   "source": [
    "model_XGB=model\n",
    "MODELS['xgb']=model_XGB"
   ]
  },
  {
   "cell_type": "code",
   "execution_count": 118,
   "id": "a3226afb",
   "metadata": {},
   "outputs": [
    {
     "data": {
      "text/plain": [
       "{'reg__subsample': 1.0,\n",
       " 'reg__n_estimators': 50,\n",
       " 'reg__min_samples_split': 0.24545454545454548,\n",
       " 'reg__min_samples_leaf': 0.390909090909091,\n",
       " 'reg__max_features': 'sqrt',\n",
       " 'reg__max_depth': 3,\n",
       " 'reg__loss': 'deviance',\n",
       " 'reg__learning_rate': 0.2,\n",
       " 'reg__criterion': 'mae'}"
      ]
     },
     "execution_count": 118,
     "metadata": {},
     "output_type": "execute_result"
    }
   ],
   "source": [
    "model.best_params_"
   ]
  },
  {
   "cell_type": "code",
   "execution_count": 119,
   "id": "6d575ce9",
   "metadata": {},
   "outputs": [
    {
     "data": {
      "text/html": [
       "<div>\n",
       "<style scoped>\n",
       "    .dataframe tbody tr th:only-of-type {\n",
       "        vertical-align: middle;\n",
       "    }\n",
       "\n",
       "    .dataframe tbody tr th {\n",
       "        vertical-align: top;\n",
       "    }\n",
       "\n",
       "    .dataframe thead th {\n",
       "        text-align: right;\n",
       "    }\n",
       "</style>\n",
       "<table border=\"1\" class=\"dataframe\">\n",
       "  <thead>\n",
       "    <tr style=\"text-align: right;\">\n",
       "      <th></th>\n",
       "      <th>exp_name</th>\n",
       "      <th>Train Acc</th>\n",
       "      <th>Test  Acc</th>\n",
       "      <th>Train AUC</th>\n",
       "      <th>Test  AUC</th>\n",
       "      <th>Train F1</th>\n",
       "      <th>Test F1</th>\n",
       "      <th>best_score</th>\n",
       "    </tr>\n",
       "  </thead>\n",
       "  <tbody>\n",
       "    <tr>\n",
       "      <th>0</th>\n",
       "      <td>XGB</td>\n",
       "      <td>0.9907</td>\n",
       "      <td>0.9832</td>\n",
       "      <td>0.989</td>\n",
       "      <td>0.9808</td>\n",
       "      <td>0.9907</td>\n",
       "      <td>0.9831</td>\n",
       "      <td>0.9907</td>\n",
       "    </tr>\n",
       "  </tbody>\n",
       "</table>\n",
       "</div>"
      ],
      "text/plain": [
       "  exp_name  Train Acc  Test  Acc  Train AUC  Test  AUC  Train F1  Test F1  \\\n",
       "0      XGB     0.9907     0.9832      0.989     0.9808    0.9907   0.9831   \n",
       "\n",
       "   best_score  \n",
       "0      0.9907  "
      ]
     },
     "execution_count": 119,
     "metadata": {},
     "output_type": "execute_result"
    }
   ],
   "source": [
    "expLog"
   ]
  },
  {
   "cell_type": "markdown",
   "id": "37cd1afc",
   "metadata": {},
   "source": [
    "# SVD/LOG "
   ]
  },
  {
   "cell_type": "code",
   "execution_count": 120,
   "id": "8121041a",
   "metadata": {},
   "outputs": [
    {
     "name": "stdout",
     "output_type": "stream",
     "text": [
      "Fitting 5 folds for each of 10 candidates, totalling 50 fits\n"
     ]
    },
    {
     "data": {
      "image/png": "[encoded data removed]",
      "text/plain": [
       "<Figure size 432x288 with 1 Axes>"
      ]
     },
     "metadata": {
      "needs_background": "light"
     },
     "output_type": "display_data"
    },
    {
     "name": "stderr",
     "output_type": "stream",
     "text": [
      "C:\\Users\\prath\\AppData\\Roaming\\Python\\Python38\\site-packages\\sklearn\\utils\\deprecation.py:87: FutureWarning: Function plot_confusion_matrix is deprecated; Function `plot_confusion_matrix` is deprecated in 1.0 and will be removed in 1.2. Use one of the class methods: ConfusionMatrixDisplay.from_predictions or ConfusionMatrixDisplay.from_estimator.\n",
      "  warnings.warn(msg, category=FutureWarning)\n"
     ]
    },
    {
     "data": {
      "text/plain": [
       "<Figure size 432x288 with 0 Axes>"
      ]
     },
     "metadata": {},
     "output_type": "display_data"
    },
    {
     "data": {
      "image/png": "[encoded data removed]",
      "text/plain": [
       "<Figure size 432x288 with 2 Axes>"
      ]
     },
     "metadata": {
      "needs_background": "light"
     },
     "output_type": "display_data"
    }
   ],
   "source": [
    "param_grid = {\n",
    "    'reg__loss': ['hinge','log'],\n",
    "    'reg__penalty':['l2', 'l1', 'elasticnet'],\n",
    "    'reg__alpha': [0.0001, 0.001,0.01, 0.1]\n",
    "}\n",
    "\n",
    "model=trainmodel(SGDClassifier(),data_prep_pipeline,param_grid,'accuracy')\n",
    "# if(model.best_params_['reg__loss']=='hinge'):\n",
    "#     from sklearn.calibration import CalibratedClassifierCV\n",
    "#     cal=CalibratedClassifierCV(model, cv='prefit')\n",
    "#     model=trainmodel(cal,data_prep_pipeline,param_grid,'accuracy')\n",
    "addresultotable(model,\"SVD_LOG\")\n",
    "plotROC(model)\n",
    "plotConf(model)\n",
    "model_SVD_LOG=model\n",
    "MODELS['SVD_LOG']=model_SVD_LOG"
   ]
  },
  {
   "cell_type": "code",
   "execution_count": 121,
   "id": "3ce5557d",
   "metadata": {},
   "outputs": [
    {
     "data": {
      "text/plain": [
       "{'reg__penalty': 'elasticnet', 'reg__loss': 'hinge', 'reg__alpha': 0.001}"
      ]
     },
     "execution_count": 121,
     "metadata": {},
     "output_type": "execute_result"
    }
   ],
   "source": [
    "model.best_params_"
   ]
  },
  {
   "cell_type": "code",
   "execution_count": 122,
   "id": "134fc99f",
   "metadata": {},
   "outputs": [
    {
     "data": {
      "text/html": [
       "<div>\n",
       "<style scoped>\n",
       "    .dataframe tbody tr th:only-of-type {\n",
       "        vertical-align: middle;\n",
       "    }\n",
       "\n",
       "    .dataframe tbody tr th {\n",
       "        vertical-align: top;\n",
       "    }\n",
       "\n",
       "    .dataframe thead th {\n",
       "        text-align: right;\n",
       "    }\n",
       "</style>\n",
       "<table border=\"1\" class=\"dataframe\">\n",
       "  <thead>\n",
       "    <tr style=\"text-align: right;\">\n",
       "      <th></th>\n",
       "      <th>exp_name</th>\n",
       "      <th>Train Acc</th>\n",
       "      <th>Test  Acc</th>\n",
       "      <th>Train AUC</th>\n",
       "      <th>Test  AUC</th>\n",
       "      <th>Train F1</th>\n",
       "      <th>Test F1</th>\n",
       "      <th>best_score</th>\n",
       "    </tr>\n",
       "  </thead>\n",
       "  <tbody>\n",
       "    <tr>\n",
       "      <th>0</th>\n",
       "      <td>XGB</td>\n",
       "      <td>0.9907</td>\n",
       "      <td>0.9832</td>\n",
       "      <td>0.9890</td>\n",
       "      <td>0.9808</td>\n",
       "      <td>0.9907</td>\n",
       "      <td>0.9831</td>\n",
       "      <td>0.9907</td>\n",
       "    </tr>\n",
       "    <tr>\n",
       "      <th>1</th>\n",
       "      <td>SVD_LOG</td>\n",
       "      <td>0.9975</td>\n",
       "      <td>0.9832</td>\n",
       "      <td>0.9972</td>\n",
       "      <td>0.9828</td>\n",
       "      <td>0.9975</td>\n",
       "      <td>0.9832</td>\n",
       "      <td>0.9950</td>\n",
       "    </tr>\n",
       "  </tbody>\n",
       "</table>\n",
       "</div>"
      ],
      "text/plain": [
       "  exp_name  Train Acc  Test  Acc  Train AUC  Test  AUC  Train F1  Test F1  \\\n",
       "0      XGB     0.9907     0.9832     0.9890     0.9808    0.9907   0.9831   \n",
       "1  SVD_LOG     0.9975     0.9832     0.9972     0.9828    0.9975   0.9832   \n",
       "\n",
       "   best_score  \n",
       "0      0.9907  \n",
       "1      0.9950  "
      ]
     },
     "execution_count": 122,
     "metadata": {},
     "output_type": "execute_result"
    }
   ],
   "source": [
    "expLog"
   ]
  },
  {
   "cell_type": "markdown",
   "id": "b35ab959",
   "metadata": {},
   "source": [
    "# RandomForest"
   ]
  },
  {
   "cell_type": "code",
   "execution_count": 123,
   "id": "4341ddee",
   "metadata": {},
   "outputs": [
    {
     "name": "stdout",
     "output_type": "stream",
     "text": [
      "Fitting 5 folds for each of 10 candidates, totalling 50 fits\n"
     ]
    },
    {
     "data": {
      "image/png": "[encoded data removed]",
      "text/plain": [
       "<Figure size 432x288 with 1 Axes>"
      ]
     },
     "metadata": {
      "needs_background": "light"
     },
     "output_type": "display_data"
    },
    {
     "name": "stderr",
     "output_type": "stream",
     "text": [
      "C:\\Users\\prath\\AppData\\Roaming\\Python\\Python38\\site-packages\\sklearn\\utils\\deprecation.py:87: FutureWarning: Function plot_confusion_matrix is deprecated; Function `plot_confusion_matrix` is deprecated in 1.0 and will be removed in 1.2. Use one of the class methods: ConfusionMatrixDisplay.from_predictions or ConfusionMatrixDisplay.from_estimator.\n",
      "  warnings.warn(msg, category=FutureWarning)\n"
     ]
    },
    {
     "data": {
      "text/plain": [
       "<Figure size 432x288 with 0 Axes>"
      ]
     },
     "metadata": {},
     "output_type": "display_data"
    },
    {
     "data": {
      "image/png": "[encoded data removed]",
      "text/plain": [
       "<Figure size 432x288 with 2 Axes>"
      ]
     },
     "metadata": {
      "needs_background": "light"
     },
     "output_type": "display_data"
    }
   ],
   "source": [
    "param_grid = {\n",
    "    'reg__bootstrap': [True],\n",
    "    'reg__max_depth': [10, 20,50,100],\n",
    "    'reg__max_features': [2, 5,10,50],\n",
    "    'reg__n_estimators': [100, 200,500]\n",
    "}\n",
    "model=trainmodel(RandomForestClassifier(),data_prep_pipeline,param_grid,'accuracy')\n",
    "addresultotable(model,\"RF\")\n",
    "model_RF=model\n",
    "MODELS['RF']=model_RF\n",
    "plotROC(model)\n",
    "plotConf(model)"
   ]
  },
  {
   "cell_type": "code",
   "execution_count": 124,
   "id": "29dbc658",
   "metadata": {},
   "outputs": [
    {
     "data": {
      "text/plain": [
       "{'reg__n_estimators': 500,\n",
       " 'reg__max_features': 2,\n",
       " 'reg__max_depth': 100,\n",
       " 'reg__bootstrap': True}"
      ]
     },
     "execution_count": 124,
     "metadata": {},
     "output_type": "execute_result"
    }
   ],
   "source": [
    "model.best_params_"
   ]
  },
  {
   "cell_type": "code",
   "execution_count": 125,
   "id": "8cc8b901",
   "metadata": {},
   "outputs": [
    {
     "data": {
      "text/html": [
       "<div>\n",
       "<style scoped>\n",
       "    .dataframe tbody tr th:only-of-type {\n",
       "        vertical-align: middle;\n",
       "    }\n",
       "\n",
       "    .dataframe tbody tr th {\n",
       "        vertical-align: top;\n",
       "    }\n",
       "\n",
       "    .dataframe thead th {\n",
       "        text-align: right;\n",
       "    }\n",
       "</style>\n",
       "<table border=\"1\" class=\"dataframe\">\n",
       "  <thead>\n",
       "    <tr style=\"text-align: right;\">\n",
       "      <th></th>\n",
       "      <th>exp_name</th>\n",
       "      <th>Train Acc</th>\n",
       "      <th>Test  Acc</th>\n",
       "      <th>Train AUC</th>\n",
       "      <th>Test  AUC</th>\n",
       "      <th>Train F1</th>\n",
       "      <th>Test F1</th>\n",
       "      <th>best_score</th>\n",
       "    </tr>\n",
       "  </thead>\n",
       "  <tbody>\n",
       "    <tr>\n",
       "      <th>0</th>\n",
       "      <td>XGB</td>\n",
       "      <td>0.9907</td>\n",
       "      <td>0.9832</td>\n",
       "      <td>0.9890</td>\n",
       "      <td>0.9808</td>\n",
       "      <td>0.9907</td>\n",
       "      <td>0.9831</td>\n",
       "      <td>0.9907</td>\n",
       "    </tr>\n",
       "    <tr>\n",
       "      <th>1</th>\n",
       "      <td>SVD_LOG</td>\n",
       "      <td>0.9975</td>\n",
       "      <td>0.9832</td>\n",
       "      <td>0.9972</td>\n",
       "      <td>0.9828</td>\n",
       "      <td>0.9975</td>\n",
       "      <td>0.9832</td>\n",
       "      <td>0.9950</td>\n",
       "    </tr>\n",
       "    <tr>\n",
       "      <th>2</th>\n",
       "      <td>RF</td>\n",
       "      <td>0.9992</td>\n",
       "      <td>0.9865</td>\n",
       "      <td>0.9993</td>\n",
       "      <td>0.9854</td>\n",
       "      <td>0.9992</td>\n",
       "      <td>0.9865</td>\n",
       "      <td>0.9966</td>\n",
       "    </tr>\n",
       "  </tbody>\n",
       "</table>\n",
       "</div>"
      ],
      "text/plain": [
       "  exp_name  Train Acc  Test  Acc  Train AUC  Test  AUC  Train F1  Test F1  \\\n",
       "0      XGB     0.9907     0.9832     0.9890     0.9808    0.9907   0.9831   \n",
       "1  SVD_LOG     0.9975     0.9832     0.9972     0.9828    0.9975   0.9832   \n",
       "2       RF     0.9992     0.9865     0.9993     0.9854    0.9992   0.9865   \n",
       "\n",
       "   best_score  \n",
       "0      0.9907  \n",
       "1      0.9950  \n",
       "2      0.9966  "
      ]
     },
     "execution_count": 125,
     "metadata": {},
     "output_type": "execute_result"
    }
   ],
   "source": [
    "expLog"
   ]
  },
  {
   "cell_type": "markdown",
   "id": "5e200799",
   "metadata": {},
   "source": [
    "# KNN"
   ]
  },
  {
   "cell_type": "code",
   "execution_count": 126,
   "id": "2c762831",
   "metadata": {},
   "outputs": [
    {
     "name": "stdout",
     "output_type": "stream",
     "text": [
      "Fitting 5 folds for each of 10 candidates, totalling 50 fits\n"
     ]
    },
    {
     "data": {
      "image/png": "[encoded data removed]",
      "text/plain": [
       "<Figure size 432x288 with 1 Axes>"
      ]
     },
     "metadata": {
      "needs_background": "light"
     },
     "output_type": "display_data"
    },
    {
     "name": "stderr",
     "output_type": "stream",
     "text": [
      "C:\\Users\\prath\\AppData\\Roaming\\Python\\Python38\\site-packages\\sklearn\\utils\\deprecation.py:87: FutureWarning: Function plot_confusion_matrix is deprecated; Function `plot_confusion_matrix` is deprecated in 1.0 and will be removed in 1.2. Use one of the class methods: ConfusionMatrixDisplay.from_predictions or ConfusionMatrixDisplay.from_estimator.\n",
      "  warnings.warn(msg, category=FutureWarning)\n"
     ]
    },
    {
     "data": {
      "text/plain": [
       "<Figure size 432x288 with 0 Axes>"
      ]
     },
     "metadata": {},
     "output_type": "display_data"
    },
    {
     "data": {
      "image/png": "[encoded data removed]",
      "text/plain": [
       "<Figure size 432x288 with 2 Axes>"
      ]
     },
     "metadata": {
      "needs_background": "light"
     },
     "output_type": "display_data"
    }
   ],
   "source": [
    "param_grid = {\n",
    "    'reg__n_neighbors': [2,5,10],\n",
    "    'reg__weights':['uniform', 'distance'],\n",
    "    'reg__p': [1,2]\n",
    "}\n",
    "model=trainmodel(KNeighborsClassifier(),data_prep_pipeline,param_grid,'accuracy')\n",
    "addresultotable(model,\"KNN\")\n",
    "model_Knn=model\n",
    "MODELS['Knn']=model_Knn\n",
    "plotROC(model)\n",
    "plotConf(model)"
   ]
  },
  {
   "cell_type": "code",
   "execution_count": 127,
   "id": "97c3d3ba",
   "metadata": {},
   "outputs": [
    {
     "data": {
      "text/plain": [
       "{'reg__weights': 'uniform', 'reg__p': 1, 'reg__n_neighbors': 5}"
      ]
     },
     "execution_count": 127,
     "metadata": {},
     "output_type": "execute_result"
    }
   ],
   "source": [
    "model.best_params_"
   ]
  },
  {
   "cell_type": "code",
   "execution_count": 128,
   "id": "2cb0cf04",
   "metadata": {},
   "outputs": [
    {
     "data": {
      "text/plain": [
       "0.9882140197851292"
      ]
     },
     "execution_count": 128,
     "metadata": {},
     "output_type": "execute_result"
    }
   ],
   "source": [
    "model.best_score_"
   ]
  },
  {
   "cell_type": "code",
   "execution_count": 129,
   "id": "681b610e",
   "metadata": {},
   "outputs": [
    {
     "data": {
      "text/html": [
       "<div>\n",
       "<style scoped>\n",
       "    .dataframe tbody tr th:only-of-type {\n",
       "        vertical-align: middle;\n",
       "    }\n",
       "\n",
       "    .dataframe tbody tr th {\n",
       "        vertical-align: top;\n",
       "    }\n",
       "\n",
       "    .dataframe thead th {\n",
       "        text-align: right;\n",
       "    }\n",
       "</style>\n",
       "<table border=\"1\" class=\"dataframe\">\n",
       "  <thead>\n",
       "    <tr style=\"text-align: right;\">\n",
       "      <th></th>\n",
       "      <th>exp_name</th>\n",
       "      <th>Train Acc</th>\n",
       "      <th>Test  Acc</th>\n",
       "      <th>Train AUC</th>\n",
       "      <th>Test  AUC</th>\n",
       "      <th>Train F1</th>\n",
       "      <th>Test F1</th>\n",
       "      <th>best_score</th>\n",
       "    </tr>\n",
       "  </thead>\n",
       "  <tbody>\n",
       "    <tr>\n",
       "      <th>0</th>\n",
       "      <td>XGB</td>\n",
       "      <td>0.9907</td>\n",
       "      <td>0.9832</td>\n",
       "      <td>0.9890</td>\n",
       "      <td>0.9808</td>\n",
       "      <td>0.9907</td>\n",
       "      <td>0.9831</td>\n",
       "      <td>0.9907</td>\n",
       "    </tr>\n",
       "    <tr>\n",
       "      <th>1</th>\n",
       "      <td>SVD_LOG</td>\n",
       "      <td>0.9975</td>\n",
       "      <td>0.9832</td>\n",
       "      <td>0.9972</td>\n",
       "      <td>0.9828</td>\n",
       "      <td>0.9975</td>\n",
       "      <td>0.9832</td>\n",
       "      <td>0.9950</td>\n",
       "    </tr>\n",
       "    <tr>\n",
       "      <th>2</th>\n",
       "      <td>RF</td>\n",
       "      <td>0.9992</td>\n",
       "      <td>0.9865</td>\n",
       "      <td>0.9993</td>\n",
       "      <td>0.9854</td>\n",
       "      <td>0.9992</td>\n",
       "      <td>0.9865</td>\n",
       "      <td>0.9966</td>\n",
       "    </tr>\n",
       "    <tr>\n",
       "      <th>3</th>\n",
       "      <td>KNN</td>\n",
       "      <td>0.9924</td>\n",
       "      <td>0.9764</td>\n",
       "      <td>0.9911</td>\n",
       "      <td>0.9696</td>\n",
       "      <td>0.9924</td>\n",
       "      <td>0.9763</td>\n",
       "      <td>0.9882</td>\n",
       "    </tr>\n",
       "  </tbody>\n",
       "</table>\n",
       "</div>"
      ],
      "text/plain": [
       "  exp_name  Train Acc  Test  Acc  Train AUC  Test  AUC  Train F1  Test F1  \\\n",
       "0      XGB     0.9907     0.9832     0.9890     0.9808    0.9907   0.9831   \n",
       "1  SVD_LOG     0.9975     0.9832     0.9972     0.9828    0.9975   0.9832   \n",
       "2       RF     0.9992     0.9865     0.9993     0.9854    0.9992   0.9865   \n",
       "3      KNN     0.9924     0.9764     0.9911     0.9696    0.9924   0.9763   \n",
       "\n",
       "   best_score  \n",
       "0      0.9907  \n",
       "1      0.9950  \n",
       "2      0.9966  \n",
       "3      0.9882  "
      ]
     },
     "execution_count": 129,
     "metadata": {},
     "output_type": "execute_result"
    }
   ],
   "source": [
    "expLog"
   ]
  },
  {
   "cell_type": "markdown",
   "id": "80246578",
   "metadata": {},
   "source": [
    "# Best model predictions/"
   ]
  },
  {
   "cell_type": "code",
   "execution_count": null,
   "id": "a6a38f61",
   "metadata": {},
   "outputs": [],
   "source": [
    "model_SVD_LOG = MODELS['SVD_LOG']"
   ]
  },
  {
   "cell_type": "code",
   "execution_count": 130,
   "id": "3b06eed2",
   "metadata": {},
   "outputs": [],
   "source": [
    "testdata = pd.read_csv(\"data/test_dataset.csv\",index_col=False)\n"
   ]
  },
  {
   "cell_type": "code",
   "execution_count": null,
   "id": "8c2171a6",
   "metadata": {},
   "outputs": [],
   "source": [
    "ytest=model_SVD_LOG.predict(testdata)"
   ]
  },
  {
   "cell_type": "code",
   "execution_count": 136,
   "id": "d95c6a01",
   "metadata": {},
   "outputs": [
    {
     "data": {
      "text/plain": [
       "'D:\\\\IUB_MSCS\\\\projects\\\\hackathon_tweetClassification'"
      ]
     },
     "execution_count": 136,
     "metadata": {},
     "output_type": "execute_result"
    }
   ],
   "source": [
    "os.getcwd()"
   ]
  },
  {
   "cell_type": "code",
   "execution_count": null,
   "id": "468d48fd",
   "metadata": {},
   "outputs": [],
   "source": [
    "submission = pd.DataFrame({\n",
    "\n",
    "        \"ID\": testdata[\"ID\"],\n",
    "\n",
    "        \"Target\": ytest\n",
    "\n",
    "    })"
   ]
  },
  {
   "cell_type": "code",
   "execution_count": null,
   "id": "717848fc",
   "metadata": {},
   "outputs": [],
   "source": [
    "submission.head(5)"
   ]
  },
  {
   "cell_type": "code",
   "execution_count": null,
   "id": "4bba312a",
   "metadata": {},
   "outputs": [],
   "source": [
    "submission.to_csv('submission_SVDLOG.csv', index=False)"
   ]
  },
  {
   "cell_type": "code",
   "execution_count": 137,
   "id": "1e0c1f70",
   "metadata": {},
   "outputs": [],
   "source": [
    "model = MODELS['RF']\n",
    "ytest=model.predict(testdata)\n",
    "submission = pd.DataFrame({\n",
    "\n",
    "        \"ID\": testdata[\"ID\"],\n",
    "\n",
    "        \"Target\": ytest\n",
    "\n",
    "    })\n",
    "submission.to_csv('submission_RF.csv', index=False)"
   ]
  },
  {
   "cell_type": "code",
   "execution_count": 96,
   "id": "de266dde",
   "metadata": {},
   "outputs": [
    {
     "data": {
      "image/png": "[encoded data removed]",
      "text/plain": [
       "<Figure size 360x360 with 1 Axes>"
      ]
     },
     "metadata": {
      "needs_background": "light"
     },
     "output_type": "display_data"
    }
   ],
   "source": [
    "plt.figure(figsize=(5,5))\n",
    "df['Target'].plot.hist(label=True);\n",
    "plt.title('TARGET Distribution')\n",
    "plt.xlabel('TARGET value')\n",
    "plt.ylabel('Frequency');\n",
    "plt.show()"
   ]
  },
  {
   "cell_type": "code",
   "execution_count": 97,
   "id": "a2f56df3",
   "metadata": {},
   "outputs": [
    {
     "data": {
      "text/plain": [
       "0    891\n",
       "1    594\n",
       "Name: Target, dtype: int64"
      ]
     },
     "execution_count": 97,
     "metadata": {},
     "output_type": "execute_result"
    }
   ],
   "source": [
    "train_data = pd.concat([X_train, y_train], axis=1)\n",
    "train_data.head()\n",
    "\n",
    "from sklearn.utils import resample\n",
    "\n",
    "zerodata = train_data[train_data.Target==0]\n",
    "onedata = train_data[train_data.Target==1]\n",
    "\n",
    "default_sampled_data = resample(zerodata,\n",
    "                          replace=True,\n",
    "                          n_samples=int(len(onedata)*1.5), \n",
    "                          random_state=123) \n",
    "\n",
    "train_data = pd.concat([onedata, default_sampled_data])\n",
    "\n",
    "train_data.Target.value_counts()"
   ]
  },
  {
   "cell_type": "code",
   "execution_count": 98,
   "id": "9ca7bbe2",
   "metadata": {},
   "outputs": [
    {
     "name": "stdout",
     "output_type": "stream",
     "text": [
      "(1485, 34) (1485, 35)\n"
     ]
    }
   ],
   "source": [
    "y=train_data['Target']\n",
    "X=train_data.drop(['Target'],axis=1)\n",
    "print(X.shape,train_data.shape)\n",
    "X_train, X_test, y_train, y_test = train_test_split(X, y, test_size=0.20, random_state=42)"
   ]
  },
  {
   "cell_type": "code",
   "execution_count": 99,
   "id": "6ab5524d",
   "metadata": {},
   "outputs": [
    {
     "name": "stdout",
     "output_type": "stream",
     "text": [
      "Fitting 5 folds for each of 10 candidates, totalling 50 fits\n"
     ]
    },
    {
     "name": "stderr",
     "output_type": "stream",
     "text": [
      "C:\\Users\\prath\\AppData\\Roaming\\Python\\Python38\\site-packages\\sklearn\\ensemble\\_gb.py:1284: FutureWarning: criterion='mae' was deprecated in version 0.24 and will be removed in version 1.1 (renaming of 0.26). Use criterion='friedman_mse' or 'squared_error' instead, as trees should use a squared error criterion in Gradient Boosting.\n",
      "  warnings.warn(\n",
      "C:\\Users\\prath\\AppData\\Roaming\\Python\\Python38\\site-packages\\sklearn\\tree\\_classes.py:366: FutureWarning: Criterion 'mae' was deprecated in v1.0 and will be removed in version 1.2. Use `criterion='absolute_error'` which is equivalent.\n",
      "  warnings.warn(\n",
      "C:\\Users\\prath\\AppData\\Roaming\\Python\\Python38\\site-packages\\sklearn\\tree\\_classes.py:366: FutureWarning: Criterion 'mae' was deprecated in v1.0 and will be removed in version 1.2. Use `criterion='absolute_error'` which is equivalent.\n",
      "  warnings.warn(\n",
      "C:\\Users\\prath\\AppData\\Roaming\\Python\\Python38\\site-packages\\sklearn\\tree\\_classes.py:366: FutureWarning: Criterion 'mae' was deprecated in v1.0 and will be removed in version 1.2. Use `criterion='absolute_error'` which is equivalent.\n",
      "  warnings.warn(\n",
      "C:\\Users\\prath\\AppData\\Roaming\\Python\\Python38\\site-packages\\sklearn\\tree\\_classes.py:366: FutureWarning: Criterion 'mae' was deprecated in v1.0 and will be removed in version 1.2. Use `criterion='absolute_error'` which is equivalent.\n",
      "  warnings.warn(\n",
      "C:\\Users\\prath\\AppData\\Roaming\\Python\\Python38\\site-packages\\sklearn\\tree\\_classes.py:366: FutureWarning: Criterion 'mae' was deprecated in v1.0 and will be removed in version 1.2. Use `criterion='absolute_error'` which is equivalent.\n",
      "  warnings.warn(\n",
      "C:\\Users\\prath\\AppData\\Roaming\\Python\\Python38\\site-packages\\sklearn\\tree\\_classes.py:366: FutureWarning: Criterion 'mae' was deprecated in v1.0 and will be removed in version 1.2. Use `criterion='absolute_error'` which is equivalent.\n",
      "  warnings.warn(\n",
      "C:\\Users\\prath\\AppData\\Roaming\\Python\\Python38\\site-packages\\sklearn\\tree\\_classes.py:366: FutureWarning: Criterion 'mae' was deprecated in v1.0 and will be removed in version 1.2. Use `criterion='absolute_error'` which is equivalent.\n",
      "  warnings.warn(\n",
      "C:\\Users\\prath\\AppData\\Roaming\\Python\\Python38\\site-packages\\sklearn\\tree\\_classes.py:366: FutureWarning: Criterion 'mae' was deprecated in v1.0 and will be removed in version 1.2. Use `criterion='absolute_error'` which is equivalent.\n",
      "  warnings.warn(\n",
      "C:\\Users\\prath\\AppData\\Roaming\\Python\\Python38\\site-packages\\sklearn\\tree\\_classes.py:366: FutureWarning: Criterion 'mae' was deprecated in v1.0 and will be removed in version 1.2. Use `criterion='absolute_error'` which is equivalent.\n",
      "  warnings.warn(\n",
      "C:\\Users\\prath\\AppData\\Roaming\\Python\\Python38\\site-packages\\sklearn\\tree\\_classes.py:366: FutureWarning: Criterion 'mae' was deprecated in v1.0 and will be removed in version 1.2. Use `criterion='absolute_error'` which is equivalent.\n",
      "  warnings.warn(\n",
      "C:\\Users\\prath\\AppData\\Roaming\\Python\\Python38\\site-packages\\sklearn\\tree\\_classes.py:366: FutureWarning: Criterion 'mae' was deprecated in v1.0 and will be removed in version 1.2. Use `criterion='absolute_error'` which is equivalent.\n",
      "  warnings.warn(\n",
      "C:\\Users\\prath\\AppData\\Roaming\\Python\\Python38\\site-packages\\sklearn\\tree\\_classes.py:366: FutureWarning: Criterion 'mae' was deprecated in v1.0 and will be removed in version 1.2. Use `criterion='absolute_error'` which is equivalent.\n",
      "  warnings.warn(\n",
      "C:\\Users\\prath\\AppData\\Roaming\\Python\\Python38\\site-packages\\sklearn\\tree\\_classes.py:366: FutureWarning: Criterion 'mae' was deprecated in v1.0 and will be removed in version 1.2. Use `criterion='absolute_error'` which is equivalent.\n",
      "  warnings.warn(\n",
      "C:\\Users\\prath\\AppData\\Roaming\\Python\\Python38\\site-packages\\sklearn\\tree\\_classes.py:366: FutureWarning: Criterion 'mae' was deprecated in v1.0 and will be removed in version 1.2. Use `criterion='absolute_error'` which is equivalent.\n",
      "  warnings.warn(\n",
      "C:\\Users\\prath\\AppData\\Roaming\\Python\\Python38\\site-packages\\sklearn\\tree\\_classes.py:366: FutureWarning: Criterion 'mae' was deprecated in v1.0 and will be removed in version 1.2. Use `criterion='absolute_error'` which is equivalent.\n",
      "  warnings.warn(\n",
      "C:\\Users\\prath\\AppData\\Roaming\\Python\\Python38\\site-packages\\sklearn\\tree\\_classes.py:366: FutureWarning: Criterion 'mae' was deprecated in v1.0 and will be removed in version 1.2. Use `criterion='absolute_error'` which is equivalent.\n",
      "  warnings.warn(\n",
      "C:\\Users\\prath\\AppData\\Roaming\\Python\\Python38\\site-packages\\sklearn\\tree\\_classes.py:366: FutureWarning: Criterion 'mae' was deprecated in v1.0 and will be removed in version 1.2. Use `criterion='absolute_error'` which is equivalent.\n",
      "  warnings.warn(\n",
      "C:\\Users\\prath\\AppData\\Roaming\\Python\\Python38\\site-packages\\sklearn\\tree\\_classes.py:366: FutureWarning: Criterion 'mae' was deprecated in v1.0 and will be removed in version 1.2. Use `criterion='absolute_error'` which is equivalent.\n",
      "  warnings.warn(\n",
      "C:\\Users\\prath\\AppData\\Roaming\\Python\\Python38\\site-packages\\sklearn\\tree\\_classes.py:366: FutureWarning: Criterion 'mae' was deprecated in v1.0 and will be removed in version 1.2. Use `criterion='absolute_error'` which is equivalent.\n",
      "  warnings.warn(\n",
      "C:\\Users\\prath\\AppData\\Roaming\\Python\\Python38\\site-packages\\sklearn\\tree\\_classes.py:366: FutureWarning: Criterion 'mae' was deprecated in v1.0 and will be removed in version 1.2. Use `criterion='absolute_error'` which is equivalent.\n",
      "  warnings.warn(\n",
      "C:\\Users\\prath\\AppData\\Roaming\\Python\\Python38\\site-packages\\sklearn\\tree\\_classes.py:366: FutureWarning: Criterion 'mae' was deprecated in v1.0 and will be removed in version 1.2. Use `criterion='absolute_error'` which is equivalent.\n",
      "  warnings.warn(\n",
      "C:\\Users\\prath\\AppData\\Roaming\\Python\\Python38\\site-packages\\sklearn\\tree\\_classes.py:366: FutureWarning: Criterion 'mae' was deprecated in v1.0 and will be removed in version 1.2. Use `criterion='absolute_error'` which is equivalent.\n",
      "  warnings.warn(\n",
      "C:\\Users\\prath\\AppData\\Roaming\\Python\\Python38\\site-packages\\sklearn\\tree\\_classes.py:366: FutureWarning: Criterion 'mae' was deprecated in v1.0 and will be removed in version 1.2. Use `criterion='absolute_error'` which is equivalent.\n",
      "  warnings.warn(\n",
      "C:\\Users\\prath\\AppData\\Roaming\\Python\\Python38\\site-packages\\sklearn\\tree\\_classes.py:366: FutureWarning: Criterion 'mae' was deprecated in v1.0 and will be removed in version 1.2. Use `criterion='absolute_error'` which is equivalent.\n",
      "  warnings.warn(\n",
      "C:\\Users\\prath\\AppData\\Roaming\\Python\\Python38\\site-packages\\sklearn\\tree\\_classes.py:366: FutureWarning: Criterion 'mae' was deprecated in v1.0 and will be removed in version 1.2. Use `criterion='absolute_error'` which is equivalent.\n",
      "  warnings.warn(\n",
      "C:\\Users\\prath\\AppData\\Roaming\\Python\\Python38\\site-packages\\sklearn\\tree\\_classes.py:366: FutureWarning: Criterion 'mae' was deprecated in v1.0 and will be removed in version 1.2. Use `criterion='absolute_error'` which is equivalent.\n",
      "  warnings.warn(\n",
      "C:\\Users\\prath\\AppData\\Roaming\\Python\\Python38\\site-packages\\sklearn\\tree\\_classes.py:366: FutureWarning: Criterion 'mae' was deprecated in v1.0 and will be removed in version 1.2. Use `criterion='absolute_error'` which is equivalent.\n",
      "  warnings.warn(\n",
      "C:\\Users\\prath\\AppData\\Roaming\\Python\\Python38\\site-packages\\sklearn\\tree\\_classes.py:366: FutureWarning: Criterion 'mae' was deprecated in v1.0 and will be removed in version 1.2. Use `criterion='absolute_error'` which is equivalent.\n",
      "  warnings.warn(\n",
      "C:\\Users\\prath\\AppData\\Roaming\\Python\\Python38\\site-packages\\sklearn\\tree\\_classes.py:366: FutureWarning: Criterion 'mae' was deprecated in v1.0 and will be removed in version 1.2. Use `criterion='absolute_error'` which is equivalent.\n",
      "  warnings.warn(\n",
      "C:\\Users\\prath\\AppData\\Roaming\\Python\\Python38\\site-packages\\sklearn\\tree\\_classes.py:366: FutureWarning: Criterion 'mae' was deprecated in v1.0 and will be removed in version 1.2. Use `criterion='absolute_error'` which is equivalent.\n",
      "  warnings.warn(\n",
      "C:\\Users\\prath\\AppData\\Roaming\\Python\\Python38\\site-packages\\sklearn\\tree\\_classes.py:366: FutureWarning: Criterion 'mae' was deprecated in v1.0 and will be removed in version 1.2. Use `criterion='absolute_error'` which is equivalent.\n",
      "  warnings.warn(\n",
      "C:\\Users\\prath\\AppData\\Roaming\\Python\\Python38\\site-packages\\sklearn\\tree\\_classes.py:366: FutureWarning: Criterion 'mae' was deprecated in v1.0 and will be removed in version 1.2. Use `criterion='absolute_error'` which is equivalent.\n",
      "  warnings.warn(\n",
      "C:\\Users\\prath\\AppData\\Roaming\\Python\\Python38\\site-packages\\sklearn\\tree\\_classes.py:366: FutureWarning: Criterion 'mae' was deprecated in v1.0 and will be removed in version 1.2. Use `criterion='absolute_error'` which is equivalent.\n",
      "  warnings.warn(\n",
      "C:\\Users\\prath\\AppData\\Roaming\\Python\\Python38\\site-packages\\sklearn\\tree\\_classes.py:366: FutureWarning: Criterion 'mae' was deprecated in v1.0 and will be removed in version 1.2. Use `criterion='absolute_error'` which is equivalent.\n",
      "  warnings.warn(\n",
      "C:\\Users\\prath\\AppData\\Roaming\\Python\\Python38\\site-packages\\sklearn\\tree\\_classes.py:366: FutureWarning: Criterion 'mae' was deprecated in v1.0 and will be removed in version 1.2. Use `criterion='absolute_error'` which is equivalent.\n",
      "  warnings.warn(\n",
      "C:\\Users\\prath\\AppData\\Roaming\\Python\\Python38\\site-packages\\sklearn\\tree\\_classes.py:366: FutureWarning: Criterion 'mae' was deprecated in v1.0 and will be removed in version 1.2. Use `criterion='absolute_error'` which is equivalent.\n",
      "  warnings.warn(\n",
      "C:\\Users\\prath\\AppData\\Roaming\\Python\\Python38\\site-packages\\sklearn\\tree\\_classes.py:366: FutureWarning: Criterion 'mae' was deprecated in v1.0 and will be removed in version 1.2. Use `criterion='absolute_error'` which is equivalent.\n",
      "  warnings.warn(\n",
      "C:\\Users\\prath\\AppData\\Roaming\\Python\\Python38\\site-packages\\sklearn\\tree\\_classes.py:366: FutureWarning: Criterion 'mae' was deprecated in v1.0 and will be removed in version 1.2. Use `criterion='absolute_error'` which is equivalent.\n",
      "  warnings.warn(\n",
      "C:\\Users\\prath\\AppData\\Roaming\\Python\\Python38\\site-packages\\sklearn\\tree\\_classes.py:366: FutureWarning: Criterion 'mae' was deprecated in v1.0 and will be removed in version 1.2. Use `criterion='absolute_error'` which is equivalent.\n",
      "  warnings.warn(\n",
      "C:\\Users\\prath\\AppData\\Roaming\\Python\\Python38\\site-packages\\sklearn\\tree\\_classes.py:366: FutureWarning: Criterion 'mae' was deprecated in v1.0 and will be removed in version 1.2. Use `criterion='absolute_error'` which is equivalent.\n",
      "  warnings.warn(\n",
      "C:\\Users\\prath\\AppData\\Roaming\\Python\\Python38\\site-packages\\sklearn\\tree\\_classes.py:366: FutureWarning: Criterion 'mae' was deprecated in v1.0 and will be removed in version 1.2. Use `criterion='absolute_error'` which is equivalent.\n",
      "  warnings.warn(\n",
      "C:\\Users\\prath\\AppData\\Roaming\\Python\\Python38\\site-packages\\sklearn\\tree\\_classes.py:366: FutureWarning: Criterion 'mae' was deprecated in v1.0 and will be removed in version 1.2. Use `criterion='absolute_error'` which is equivalent.\n",
      "  warnings.warn(\n",
      "C:\\Users\\prath\\AppData\\Roaming\\Python\\Python38\\site-packages\\sklearn\\tree\\_classes.py:366: FutureWarning: Criterion 'mae' was deprecated in v1.0 and will be removed in version 1.2. Use `criterion='absolute_error'` which is equivalent.\n",
      "  warnings.warn(\n",
      "C:\\Users\\prath\\AppData\\Roaming\\Python\\Python38\\site-packages\\sklearn\\tree\\_classes.py:366: FutureWarning: Criterion 'mae' was deprecated in v1.0 and will be removed in version 1.2. Use `criterion='absolute_error'` which is equivalent.\n",
      "  warnings.warn(\n",
      "C:\\Users\\prath\\AppData\\Roaming\\Python\\Python38\\site-packages\\sklearn\\tree\\_classes.py:366: FutureWarning: Criterion 'mae' was deprecated in v1.0 and will be removed in version 1.2. Use `criterion='absolute_error'` which is equivalent.\n",
      "  warnings.warn(\n",
      "C:\\Users\\prath\\AppData\\Roaming\\Python\\Python38\\site-packages\\sklearn\\tree\\_classes.py:366: FutureWarning: Criterion 'mae' was deprecated in v1.0 and will be removed in version 1.2. Use `criterion='absolute_error'` which is equivalent.\n",
      "  warnings.warn(\n",
      "C:\\Users\\prath\\AppData\\Roaming\\Python\\Python38\\site-packages\\sklearn\\tree\\_classes.py:366: FutureWarning: Criterion 'mae' was deprecated in v1.0 and will be removed in version 1.2. Use `criterion='absolute_error'` which is equivalent.\n",
      "  warnings.warn(\n",
      "C:\\Users\\prath\\AppData\\Roaming\\Python\\Python38\\site-packages\\sklearn\\tree\\_classes.py:366: FutureWarning: Criterion 'mae' was deprecated in v1.0 and will be removed in version 1.2. Use `criterion='absolute_error'` which is equivalent.\n",
      "  warnings.warn(\n",
      "C:\\Users\\prath\\AppData\\Roaming\\Python\\Python38\\site-packages\\sklearn\\tree\\_classes.py:366: FutureWarning: Criterion 'mae' was deprecated in v1.0 and will be removed in version 1.2. Use `criterion='absolute_error'` which is equivalent.\n",
      "  warnings.warn(\n",
      "C:\\Users\\prath\\AppData\\Roaming\\Python\\Python38\\site-packages\\sklearn\\tree\\_classes.py:366: FutureWarning: Criterion 'mae' was deprecated in v1.0 and will be removed in version 1.2. Use `criterion='absolute_error'` which is equivalent.\n",
      "  warnings.warn(\n",
      "C:\\Users\\prath\\AppData\\Roaming\\Python\\Python38\\site-packages\\sklearn\\tree\\_classes.py:366: FutureWarning: Criterion 'mae' was deprecated in v1.0 and will be removed in version 1.2. Use `criterion='absolute_error'` which is equivalent.\n",
      "  warnings.warn(\n",
      "C:\\Users\\prath\\AppData\\Roaming\\Python\\Python38\\site-packages\\sklearn\\tree\\_classes.py:366: FutureWarning: Criterion 'mae' was deprecated in v1.0 and will be removed in version 1.2. Use `criterion='absolute_error'` which is equivalent.\n",
      "  warnings.warn(\n",
      "C:\\Users\\prath\\AppData\\Roaming\\Python\\Python38\\site-packages\\sklearn\\tree\\_classes.py:366: FutureWarning: Criterion 'mae' was deprecated in v1.0 and will be removed in version 1.2. Use `criterion='absolute_error'` which is equivalent.\n",
      "  warnings.warn(\n",
      "C:\\Users\\prath\\AppData\\Roaming\\Python\\Python38\\site-packages\\sklearn\\tree\\_classes.py:366: FutureWarning: Criterion 'mae' was deprecated in v1.0 and will be removed in version 1.2. Use `criterion='absolute_error'` which is equivalent.\n",
      "  warnings.warn(\n",
      "C:\\Users\\prath\\AppData\\Roaming\\Python\\Python38\\site-packages\\sklearn\\tree\\_classes.py:366: FutureWarning: Criterion 'mae' was deprecated in v1.0 and will be removed in version 1.2. Use `criterion='absolute_error'` which is equivalent.\n",
      "  warnings.warn(\n",
      "C:\\Users\\prath\\AppData\\Roaming\\Python\\Python38\\site-packages\\sklearn\\tree\\_classes.py:366: FutureWarning: Criterion 'mae' was deprecated in v1.0 and will be removed in version 1.2. Use `criterion='absolute_error'` which is equivalent.\n",
      "  warnings.warn(\n",
      "C:\\Users\\prath\\AppData\\Roaming\\Python\\Python38\\site-packages\\sklearn\\tree\\_classes.py:366: FutureWarning: Criterion 'mae' was deprecated in v1.0 and will be removed in version 1.2. Use `criterion='absolute_error'` which is equivalent.\n",
      "  warnings.warn(\n",
      "C:\\Users\\prath\\AppData\\Roaming\\Python\\Python38\\site-packages\\sklearn\\tree\\_classes.py:366: FutureWarning: Criterion 'mae' was deprecated in v1.0 and will be removed in version 1.2. Use `criterion='absolute_error'` which is equivalent.\n",
      "  warnings.warn(\n",
      "C:\\Users\\prath\\AppData\\Roaming\\Python\\Python38\\site-packages\\sklearn\\tree\\_classes.py:366: FutureWarning: Criterion 'mae' was deprecated in v1.0 and will be removed in version 1.2. Use `criterion='absolute_error'` which is equivalent.\n",
      "  warnings.warn(\n",
      "C:\\Users\\prath\\AppData\\Roaming\\Python\\Python38\\site-packages\\sklearn\\tree\\_classes.py:366: FutureWarning: Criterion 'mae' was deprecated in v1.0 and will be removed in version 1.2. Use `criterion='absolute_error'` which is equivalent.\n",
      "  warnings.warn(\n",
      "C:\\Users\\prath\\AppData\\Roaming\\Python\\Python38\\site-packages\\sklearn\\tree\\_classes.py:366: FutureWarning: Criterion 'mae' was deprecated in v1.0 and will be removed in version 1.2. Use `criterion='absolute_error'` which is equivalent.\n",
      "  warnings.warn(\n",
      "C:\\Users\\prath\\AppData\\Roaming\\Python\\Python38\\site-packages\\sklearn\\tree\\_classes.py:366: FutureWarning: Criterion 'mae' was deprecated in v1.0 and will be removed in version 1.2. Use `criterion='absolute_error'` which is equivalent.\n",
      "  warnings.warn(\n",
      "C:\\Users\\prath\\AppData\\Roaming\\Python\\Python38\\site-packages\\sklearn\\tree\\_classes.py:366: FutureWarning: Criterion 'mae' was deprecated in v1.0 and will be removed in version 1.2. Use `criterion='absolute_error'` which is equivalent.\n",
      "  warnings.warn(\n",
      "C:\\Users\\prath\\AppData\\Roaming\\Python\\Python38\\site-packages\\sklearn\\tree\\_classes.py:366: FutureWarning: Criterion 'mae' was deprecated in v1.0 and will be removed in version 1.2. Use `criterion='absolute_error'` which is equivalent.\n",
      "  warnings.warn(\n",
      "C:\\Users\\prath\\AppData\\Roaming\\Python\\Python38\\site-packages\\sklearn\\tree\\_classes.py:366: FutureWarning: Criterion 'mae' was deprecated in v1.0 and will be removed in version 1.2. Use `criterion='absolute_error'` which is equivalent.\n",
      "  warnings.warn(\n",
      "C:\\Users\\prath\\AppData\\Roaming\\Python\\Python38\\site-packages\\sklearn\\tree\\_classes.py:366: FutureWarning: Criterion 'mae' was deprecated in v1.0 and will be removed in version 1.2. Use `criterion='absolute_error'` which is equivalent.\n",
      "  warnings.warn(\n",
      "C:\\Users\\prath\\AppData\\Roaming\\Python\\Python38\\site-packages\\sklearn\\tree\\_classes.py:366: FutureWarning: Criterion 'mae' was deprecated in v1.0 and will be removed in version 1.2. Use `criterion='absolute_error'` which is equivalent.\n",
      "  warnings.warn(\n",
      "C:\\Users\\prath\\AppData\\Roaming\\Python\\Python38\\site-packages\\sklearn\\tree\\_classes.py:366: FutureWarning: Criterion 'mae' was deprecated in v1.0 and will be removed in version 1.2. Use `criterion='absolute_error'` which is equivalent.\n",
      "  warnings.warn(\n",
      "C:\\Users\\prath\\AppData\\Roaming\\Python\\Python38\\site-packages\\sklearn\\tree\\_classes.py:366: FutureWarning: Criterion 'mae' was deprecated in v1.0 and will be removed in version 1.2. Use `criterion='absolute_error'` which is equivalent.\n",
      "  warnings.warn(\n",
      "C:\\Users\\prath\\AppData\\Roaming\\Python\\Python38\\site-packages\\sklearn\\tree\\_classes.py:366: FutureWarning: Criterion 'mae' was deprecated in v1.0 and will be removed in version 1.2. Use `criterion='absolute_error'` which is equivalent.\n",
      "  warnings.warn(\n",
      "C:\\Users\\prath\\AppData\\Roaming\\Python\\Python38\\site-packages\\sklearn\\tree\\_classes.py:366: FutureWarning: Criterion 'mae' was deprecated in v1.0 and will be removed in version 1.2. Use `criterion='absolute_error'` which is equivalent.\n",
      "  warnings.warn(\n",
      "C:\\Users\\prath\\AppData\\Roaming\\Python\\Python38\\site-packages\\sklearn\\tree\\_classes.py:366: FutureWarning: Criterion 'mae' was deprecated in v1.0 and will be removed in version 1.2. Use `criterion='absolute_error'` which is equivalent.\n",
      "  warnings.warn(\n",
      "C:\\Users\\prath\\AppData\\Roaming\\Python\\Python38\\site-packages\\sklearn\\tree\\_classes.py:366: FutureWarning: Criterion 'mae' was deprecated in v1.0 and will be removed in version 1.2. Use `criterion='absolute_error'` which is equivalent.\n",
      "  warnings.warn(\n",
      "C:\\Users\\prath\\AppData\\Roaming\\Python\\Python38\\site-packages\\sklearn\\tree\\_classes.py:366: FutureWarning: Criterion 'mae' was deprecated in v1.0 and will be removed in version 1.2. Use `criterion='absolute_error'` which is equivalent.\n",
      "  warnings.warn(\n",
      "C:\\Users\\prath\\AppData\\Roaming\\Python\\Python38\\site-packages\\sklearn\\tree\\_classes.py:366: FutureWarning: Criterion 'mae' was deprecated in v1.0 and will be removed in version 1.2. Use `criterion='absolute_error'` which is equivalent.\n",
      "  warnings.warn(\n",
      "C:\\Users\\prath\\AppData\\Roaming\\Python\\Python38\\site-packages\\sklearn\\tree\\_classes.py:366: FutureWarning: Criterion 'mae' was deprecated in v1.0 and will be removed in version 1.2. Use `criterion='absolute_error'` which is equivalent.\n",
      "  warnings.warn(\n",
      "C:\\Users\\prath\\AppData\\Roaming\\Python\\Python38\\site-packages\\sklearn\\tree\\_classes.py:366: FutureWarning: Criterion 'mae' was deprecated in v1.0 and will be removed in version 1.2. Use `criterion='absolute_error'` which is equivalent.\n",
      "  warnings.warn(\n",
      "C:\\Users\\prath\\AppData\\Roaming\\Python\\Python38\\site-packages\\sklearn\\tree\\_classes.py:366: FutureWarning: Criterion 'mae' was deprecated in v1.0 and will be removed in version 1.2. Use `criterion='absolute_error'` which is equivalent.\n",
      "  warnings.warn(\n",
      "C:\\Users\\prath\\AppData\\Roaming\\Python\\Python38\\site-packages\\sklearn\\tree\\_classes.py:366: FutureWarning: Criterion 'mae' was deprecated in v1.0 and will be removed in version 1.2. Use `criterion='absolute_error'` which is equivalent.\n",
      "  warnings.warn(\n",
      "C:\\Users\\prath\\AppData\\Roaming\\Python\\Python38\\site-packages\\sklearn\\tree\\_classes.py:366: FutureWarning: Criterion 'mae' was deprecated in v1.0 and will be removed in version 1.2. Use `criterion='absolute_error'` which is equivalent.\n",
      "  warnings.warn(\n",
      "C:\\Users\\prath\\AppData\\Roaming\\Python\\Python38\\site-packages\\sklearn\\tree\\_classes.py:366: FutureWarning: Criterion 'mae' was deprecated in v1.0 and will be removed in version 1.2. Use `criterion='absolute_error'` which is equivalent.\n",
      "  warnings.warn(\n",
      "C:\\Users\\prath\\AppData\\Roaming\\Python\\Python38\\site-packages\\sklearn\\tree\\_classes.py:366: FutureWarning: Criterion 'mae' was deprecated in v1.0 and will be removed in version 1.2. Use `criterion='absolute_error'` which is equivalent.\n",
      "  warnings.warn(\n",
      "C:\\Users\\prath\\AppData\\Roaming\\Python\\Python38\\site-packages\\sklearn\\tree\\_classes.py:366: FutureWarning: Criterion 'mae' was deprecated in v1.0 and will be removed in version 1.2. Use `criterion='absolute_error'` which is equivalent.\n",
      "  warnings.warn(\n",
      "C:\\Users\\prath\\AppData\\Roaming\\Python\\Python38\\site-packages\\sklearn\\tree\\_classes.py:366: FutureWarning: Criterion 'mae' was deprecated in v1.0 and will be removed in version 1.2. Use `criterion='absolute_error'` which is equivalent.\n",
      "  warnings.warn(\n",
      "C:\\Users\\prath\\AppData\\Roaming\\Python\\Python38\\site-packages\\sklearn\\tree\\_classes.py:366: FutureWarning: Criterion 'mae' was deprecated in v1.0 and will be removed in version 1.2. Use `criterion='absolute_error'` which is equivalent.\n",
      "  warnings.warn(\n",
      "C:\\Users\\prath\\AppData\\Roaming\\Python\\Python38\\site-packages\\sklearn\\tree\\_classes.py:366: FutureWarning: Criterion 'mae' was deprecated in v1.0 and will be removed in version 1.2. Use `criterion='absolute_error'` which is equivalent.\n",
      "  warnings.warn(\n",
      "C:\\Users\\prath\\AppData\\Roaming\\Python\\Python38\\site-packages\\sklearn\\tree\\_classes.py:366: FutureWarning: Criterion 'mae' was deprecated in v1.0 and will be removed in version 1.2. Use `criterion='absolute_error'` which is equivalent.\n",
      "  warnings.warn(\n",
      "C:\\Users\\prath\\AppData\\Roaming\\Python\\Python38\\site-packages\\sklearn\\tree\\_classes.py:366: FutureWarning: Criterion 'mae' was deprecated in v1.0 and will be removed in version 1.2. Use `criterion='absolute_error'` which is equivalent.\n",
      "  warnings.warn(\n",
      "C:\\Users\\prath\\AppData\\Roaming\\Python\\Python38\\site-packages\\sklearn\\tree\\_classes.py:366: FutureWarning: Criterion 'mae' was deprecated in v1.0 and will be removed in version 1.2. Use `criterion='absolute_error'` which is equivalent.\n",
      "  warnings.warn(\n",
      "C:\\Users\\prath\\AppData\\Roaming\\Python\\Python38\\site-packages\\sklearn\\tree\\_classes.py:366: FutureWarning: Criterion 'mae' was deprecated in v1.0 and will be removed in version 1.2. Use `criterion='absolute_error'` which is equivalent.\n",
      "  warnings.warn(\n",
      "C:\\Users\\prath\\AppData\\Roaming\\Python\\Python38\\site-packages\\sklearn\\tree\\_classes.py:366: FutureWarning: Criterion 'mae' was deprecated in v1.0 and will be removed in version 1.2. Use `criterion='absolute_error'` which is equivalent.\n",
      "  warnings.warn(\n",
      "C:\\Users\\prath\\AppData\\Roaming\\Python\\Python38\\site-packages\\sklearn\\tree\\_classes.py:366: FutureWarning: Criterion 'mae' was deprecated in v1.0 and will be removed in version 1.2. Use `criterion='absolute_error'` which is equivalent.\n",
      "  warnings.warn(\n",
      "C:\\Users\\prath\\AppData\\Roaming\\Python\\Python38\\site-packages\\sklearn\\tree\\_classes.py:366: FutureWarning: Criterion 'mae' was deprecated in v1.0 and will be removed in version 1.2. Use `criterion='absolute_error'` which is equivalent.\n",
      "  warnings.warn(\n",
      "C:\\Users\\prath\\AppData\\Roaming\\Python\\Python38\\site-packages\\sklearn\\tree\\_classes.py:366: FutureWarning: Criterion 'mae' was deprecated in v1.0 and will be removed in version 1.2. Use `criterion='absolute_error'` which is equivalent.\n",
      "  warnings.warn(\n",
      "C:\\Users\\prath\\AppData\\Roaming\\Python\\Python38\\site-packages\\sklearn\\tree\\_classes.py:366: FutureWarning: Criterion 'mae' was deprecated in v1.0 and will be removed in version 1.2. Use `criterion='absolute_error'` which is equivalent.\n",
      "  warnings.warn(\n",
      "C:\\Users\\prath\\AppData\\Roaming\\Python\\Python38\\site-packages\\sklearn\\tree\\_classes.py:366: FutureWarning: Criterion 'mae' was deprecated in v1.0 and will be removed in version 1.2. Use `criterion='absolute_error'` which is equivalent.\n",
      "  warnings.warn(\n",
      "C:\\Users\\prath\\AppData\\Roaming\\Python\\Python38\\site-packages\\sklearn\\tree\\_classes.py:366: FutureWarning: Criterion 'mae' was deprecated in v1.0 and will be removed in version 1.2. Use `criterion='absolute_error'` which is equivalent.\n",
      "  warnings.warn(\n",
      "C:\\Users\\prath\\AppData\\Roaming\\Python\\Python38\\site-packages\\sklearn\\tree\\_classes.py:366: FutureWarning: Criterion 'mae' was deprecated in v1.0 and will be removed in version 1.2. Use `criterion='absolute_error'` which is equivalent.\n",
      "  warnings.warn(\n",
      "C:\\Users\\prath\\AppData\\Roaming\\Python\\Python38\\site-packages\\sklearn\\tree\\_classes.py:366: FutureWarning: Criterion 'mae' was deprecated in v1.0 and will be removed in version 1.2. Use `criterion='absolute_error'` which is equivalent.\n",
      "  warnings.warn(\n",
      "C:\\Users\\prath\\AppData\\Roaming\\Python\\Python38\\site-packages\\sklearn\\tree\\_classes.py:366: FutureWarning: Criterion 'mae' was deprecated in v1.0 and will be removed in version 1.2. Use `criterion='absolute_error'` which is equivalent.\n",
      "  warnings.warn(\n"
     ]
    },
    {
     "data": {
      "image/png": "[encoded data removed]",
      "text/plain": [
       "<Figure size 432x288 with 1 Axes>"
      ]
     },
     "metadata": {
      "needs_background": "light"
     },
     "output_type": "display_data"
    },
    {
     "name": "stderr",
     "output_type": "stream",
     "text": [
      "C:\\Users\\prath\\AppData\\Roaming\\Python\\Python38\\site-packages\\sklearn\\utils\\deprecation.py:87: FutureWarning: Function plot_confusion_matrix is deprecated; Function `plot_confusion_matrix` is deprecated in 1.0 and will be removed in 1.2. Use one of the class methods: ConfusionMatrixDisplay.from_predictions or ConfusionMatrixDisplay.from_estimator.\n",
      "  warnings.warn(msg, category=FutureWarning)\n"
     ]
    },
    {
     "data": {
      "text/plain": [
       "<Figure size 432x288 with 0 Axes>"
      ]
     },
     "metadata": {},
     "output_type": "display_data"
    },
    {
     "data": {
      "image/png": "[encoded data removed]",
      "text/plain": [
       "<Figure size 432x288 with 2 Axes>"
      ]
     },
     "metadata": {
      "needs_background": "light"
     },
     "output_type": "display_data"
    },
    {
     "data": {
      "text/plain": [
       "{'reg__subsample': 0.5,\n",
       " 'reg__n_estimators': 100,\n",
       " 'reg__min_samples_split': 0.390909090909091,\n",
       " 'reg__min_samples_leaf': 0.17272727272727273,\n",
       " 'reg__max_features': 'log2',\n",
       " 'reg__max_depth': 3,\n",
       " 'reg__loss': 'deviance',\n",
       " 'reg__learning_rate': 0.075,\n",
       " 'reg__criterion': 'mae'}"
      ]
     },
     "execution_count": 99,
     "metadata": {},
     "output_type": "execute_result"
    }
   ],
   "source": [
    "parameters = {\n",
    "    \"reg__loss\":[\"deviance\"],\n",
    "    \"reg__learning_rate\": [0.01, 0.025, 0.05, 0.075, 0.1, 0.15, 0.2],\n",
    "    \"reg__min_samples_split\": np.linspace(0.1, 0.5, 12),\n",
    "    \"reg__min_samples_leaf\": np.linspace(0.1, 0.5, 12),\n",
    "    \"reg__max_depth\":[3,5,8],\n",
    "    \"reg__max_features\":[\"log2\",\"sqrt\"],\n",
    "    \"reg__criterion\": [\"friedman_mse\",  \"mae\"],\n",
    "    \"reg__subsample\":[0.5,1.0],\n",
    "    \"reg__n_estimators\":[10,50,100]\n",
    "    }\n",
    "\n",
    "model=trainmodel(GradientBoostingClassifier(),data_prep_pipeline,parameters,'accuracy')\n",
    "addresultotable(model,\"XGB_b\")\n",
    "\n",
    "plotROC(model)\n",
    "plotConf(model)\n",
    "model_XGB=model\n",
    "MODELS['xgb_b']=model_XGB\n",
    "model.best_params_"
   ]
  },
  {
   "cell_type": "code",
   "execution_count": 100,
   "id": "fd615286",
   "metadata": {},
   "outputs": [
    {
     "data": {
      "text/html": [
       "<div>\n",
       "<style scoped>\n",
       "    .dataframe tbody tr th:only-of-type {\n",
       "        vertical-align: middle;\n",
       "    }\n",
       "\n",
       "    .dataframe tbody tr th {\n",
       "        vertical-align: top;\n",
       "    }\n",
       "\n",
       "    .dataframe thead th {\n",
       "        text-align: right;\n",
       "    }\n",
       "</style>\n",
       "<table border=\"1\" class=\"dataframe\">\n",
       "  <thead>\n",
       "    <tr style=\"text-align: right;\">\n",
       "      <th></th>\n",
       "      <th>exp_name</th>\n",
       "      <th>Train Acc</th>\n",
       "      <th>Test  Acc</th>\n",
       "      <th>Train AUC</th>\n",
       "      <th>Test  AUC</th>\n",
       "      <th>Train F1</th>\n",
       "      <th>Test F1</th>\n",
       "      <th>best_score</th>\n",
       "    </tr>\n",
       "  </thead>\n",
       "  <tbody>\n",
       "    <tr>\n",
       "      <th>0</th>\n",
       "      <td>XGB</td>\n",
       "      <td>0.9895</td>\n",
       "      <td>0.9876</td>\n",
       "      <td>0.9908</td>\n",
       "      <td>0.9872</td>\n",
       "      <td>0.9896</td>\n",
       "      <td>0.9876</td>\n",
       "      <td>0.9735</td>\n",
       "    </tr>\n",
       "    <tr>\n",
       "      <th>1</th>\n",
       "      <td>SVD_LOG</td>\n",
       "      <td>0.9992</td>\n",
       "      <td>0.9969</td>\n",
       "      <td>0.9995</td>\n",
       "      <td>0.9980</td>\n",
       "      <td>0.9992</td>\n",
       "      <td>0.9969</td>\n",
       "      <td>0.9981</td>\n",
       "    </tr>\n",
       "    <tr>\n",
       "      <th>2</th>\n",
       "      <td>RF</td>\n",
       "      <td>1.0000</td>\n",
       "      <td>1.0000</td>\n",
       "      <td>1.0000</td>\n",
       "      <td>1.0000</td>\n",
       "      <td>1.0000</td>\n",
       "      <td>1.0000</td>\n",
       "      <td>0.9992</td>\n",
       "    </tr>\n",
       "    <tr>\n",
       "      <th>3</th>\n",
       "      <td>KNN</td>\n",
       "      <td>1.0000</td>\n",
       "      <td>0.9969</td>\n",
       "      <td>1.0000</td>\n",
       "      <td>0.9933</td>\n",
       "      <td>1.0000</td>\n",
       "      <td>0.9969</td>\n",
       "      <td>0.9984</td>\n",
       "    </tr>\n",
       "    <tr>\n",
       "      <th>4</th>\n",
       "      <td>XGB_b</td>\n",
       "      <td>0.9983</td>\n",
       "      <td>0.9899</td>\n",
       "      <td>0.9983</td>\n",
       "      <td>0.9881</td>\n",
       "      <td>0.9983</td>\n",
       "      <td>0.9899</td>\n",
       "      <td>0.9966</td>\n",
       "    </tr>\n",
       "  </tbody>\n",
       "</table>\n",
       "</div>"
      ],
      "text/plain": [
       "  exp_name  Train Acc  Test  Acc  Train AUC  Test  AUC  Train F1  Test F1  \\\n",
       "0      XGB     0.9895     0.9876     0.9908     0.9872    0.9896   0.9876   \n",
       "1  SVD_LOG     0.9992     0.9969     0.9995     0.9980    0.9992   0.9969   \n",
       "2       RF     1.0000     1.0000     1.0000     1.0000    1.0000   1.0000   \n",
       "3      KNN     1.0000     0.9969     1.0000     0.9933    1.0000   0.9969   \n",
       "4    XGB_b     0.9983     0.9899     0.9983     0.9881    0.9983   0.9899   \n",
       "\n",
       "   best_score  \n",
       "0      0.9735  \n",
       "1      0.9981  \n",
       "2      0.9992  \n",
       "3      0.9984  \n",
       "4      0.9966  "
      ]
     },
     "execution_count": 100,
     "metadata": {},
     "output_type": "execute_result"
    }
   ],
   "source": [
    "expLog"
   ]
  },
  {
   "cell_type": "markdown",
   "id": "5938c97b",
   "metadata": {},
   "source": [
    "## SVD"
   ]
  },
  {
   "cell_type": "code",
   "execution_count": 101,
   "id": "4efc0ec3",
   "metadata": {},
   "outputs": [
    {
     "name": "stdout",
     "output_type": "stream",
     "text": [
      "Fitting 5 folds for each of 10 candidates, totalling 50 fits\n"
     ]
    },
    {
     "data": {
      "image/png": "[encoded data removed]",
      "text/plain": [
       "<Figure size 432x288 with 1 Axes>"
      ]
     },
     "metadata": {
      "needs_background": "light"
     },
     "output_type": "display_data"
    },
    {
     "name": "stderr",
     "output_type": "stream",
     "text": [
      "C:\\Users\\prath\\AppData\\Roaming\\Python\\Python38\\site-packages\\sklearn\\utils\\deprecation.py:87: FutureWarning: Function plot_confusion_matrix is deprecated; Function `plot_confusion_matrix` is deprecated in 1.0 and will be removed in 1.2. Use one of the class methods: ConfusionMatrixDisplay.from_predictions or ConfusionMatrixDisplay.from_estimator.\n",
      "  warnings.warn(msg, category=FutureWarning)\n"
     ]
    },
    {
     "data": {
      "text/plain": [
       "<Figure size 432x288 with 0 Axes>"
      ]
     },
     "metadata": {},
     "output_type": "display_data"
    },
    {
     "data": {
      "image/png": "[encoded data removed]",
      "text/plain": [
       "<Figure size 432x288 with 2 Axes>"
      ]
     },
     "metadata": {
      "needs_background": "light"
     },
     "output_type": "display_data"
    }
   ],
   "source": [
    "param_grid = {\n",
    "    'reg__loss': ['hinge','log'],\n",
    "    'reg__penalty':['l2', 'l1', 'elasticnet'],\n",
    "    'reg__alpha': [0.0001, 0.001,0.01, 0.1]\n",
    "}\n",
    "\n",
    "model=trainmodel(SGDClassifier(),data_prep_pipeline,param_grid,'accuracy')\n",
    "# if(model.best_params_['reg__loss']=='hinge'):\n",
    "#     from sklearn.calibration import CalibratedClassifierCV\n",
    "#     cal=CalibratedClassifierCV(model, cv='prefit')\n",
    "#     model=trainmodel(cal,data_prep_pipeline,param_grid,'accuracy')\n",
    "addresultotable(model,\"SVD_LOG_b\")\n",
    "plotROC(model)\n",
    "plotConf(model)\n",
    "model_SVD_LOG=model\n",
    "MODELS['SVD_LOG_b']=model_SVD_LOG"
   ]
  },
  {
   "cell_type": "code",
   "execution_count": 102,
   "id": "55c06172",
   "metadata": {},
   "outputs": [
    {
     "data": {
      "text/html": [
       "<div>\n",
       "<style scoped>\n",
       "    .dataframe tbody tr th:only-of-type {\n",
       "        vertical-align: middle;\n",
       "    }\n",
       "\n",
       "    .dataframe tbody tr th {\n",
       "        vertical-align: top;\n",
       "    }\n",
       "\n",
       "    .dataframe thead th {\n",
       "        text-align: right;\n",
       "    }\n",
       "</style>\n",
       "<table border=\"1\" class=\"dataframe\">\n",
       "  <thead>\n",
       "    <tr style=\"text-align: right;\">\n",
       "      <th></th>\n",
       "      <th>exp_name</th>\n",
       "      <th>Train Acc</th>\n",
       "      <th>Test  Acc</th>\n",
       "      <th>Train AUC</th>\n",
       "      <th>Test  AUC</th>\n",
       "      <th>Train F1</th>\n",
       "      <th>Test F1</th>\n",
       "      <th>best_score</th>\n",
       "    </tr>\n",
       "  </thead>\n",
       "  <tbody>\n",
       "    <tr>\n",
       "      <th>0</th>\n",
       "      <td>XGB</td>\n",
       "      <td>0.9895</td>\n",
       "      <td>0.9876</td>\n",
       "      <td>0.9908</td>\n",
       "      <td>0.9872</td>\n",
       "      <td>0.9896</td>\n",
       "      <td>0.9876</td>\n",
       "      <td>0.9735</td>\n",
       "    </tr>\n",
       "    <tr>\n",
       "      <th>1</th>\n",
       "      <td>SVD_LOG</td>\n",
       "      <td>0.9992</td>\n",
       "      <td>0.9969</td>\n",
       "      <td>0.9995</td>\n",
       "      <td>0.9980</td>\n",
       "      <td>0.9992</td>\n",
       "      <td>0.9969</td>\n",
       "      <td>0.9981</td>\n",
       "    </tr>\n",
       "    <tr>\n",
       "      <th>2</th>\n",
       "      <td>RF</td>\n",
       "      <td>1.0000</td>\n",
       "      <td>1.0000</td>\n",
       "      <td>1.0000</td>\n",
       "      <td>1.0000</td>\n",
       "      <td>1.0000</td>\n",
       "      <td>1.0000</td>\n",
       "      <td>0.9992</td>\n",
       "    </tr>\n",
       "    <tr>\n",
       "      <th>3</th>\n",
       "      <td>KNN</td>\n",
       "      <td>1.0000</td>\n",
       "      <td>0.9969</td>\n",
       "      <td>1.0000</td>\n",
       "      <td>0.9933</td>\n",
       "      <td>1.0000</td>\n",
       "      <td>0.9969</td>\n",
       "      <td>0.9984</td>\n",
       "    </tr>\n",
       "    <tr>\n",
       "      <th>4</th>\n",
       "      <td>XGB_b</td>\n",
       "      <td>0.9983</td>\n",
       "      <td>0.9899</td>\n",
       "      <td>0.9983</td>\n",
       "      <td>0.9881</td>\n",
       "      <td>0.9983</td>\n",
       "      <td>0.9899</td>\n",
       "      <td>0.9966</td>\n",
       "    </tr>\n",
       "    <tr>\n",
       "      <th>5</th>\n",
       "      <td>SVD_LOG_b</td>\n",
       "      <td>1.0000</td>\n",
       "      <td>1.0000</td>\n",
       "      <td>1.0000</td>\n",
       "      <td>1.0000</td>\n",
       "      <td>1.0000</td>\n",
       "      <td>1.0000</td>\n",
       "      <td>0.9992</td>\n",
       "    </tr>\n",
       "  </tbody>\n",
       "</table>\n",
       "</div>"
      ],
      "text/plain": [
       "    exp_name  Train Acc  Test  Acc  Train AUC  Test  AUC  Train F1  Test F1  \\\n",
       "0        XGB     0.9895     0.9876     0.9908     0.9872    0.9896   0.9876   \n",
       "1    SVD_LOG     0.9992     0.9969     0.9995     0.9980    0.9992   0.9969   \n",
       "2         RF     1.0000     1.0000     1.0000     1.0000    1.0000   1.0000   \n",
       "3        KNN     1.0000     0.9969     1.0000     0.9933    1.0000   0.9969   \n",
       "4      XGB_b     0.9983     0.9899     0.9983     0.9881    0.9983   0.9899   \n",
       "5  SVD_LOG_b     1.0000     1.0000     1.0000     1.0000    1.0000   1.0000   \n",
       "\n",
       "   best_score  \n",
       "0      0.9735  \n",
       "1      0.9981  \n",
       "2      0.9992  \n",
       "3      0.9984  \n",
       "4      0.9966  \n",
       "5      0.9992  "
      ]
     },
     "execution_count": 102,
     "metadata": {},
     "output_type": "execute_result"
    }
   ],
   "source": [
    "expLog"
   ]
  },
  {
   "cell_type": "code",
   "execution_count": 103,
   "id": "a8e7476f",
   "metadata": {},
   "outputs": [
    {
     "data": {
      "text/plain": [
       "{'reg__penalty': 'elasticnet', 'reg__loss': 'log', 'reg__alpha': 0.0001}"
      ]
     },
     "execution_count": 103,
     "metadata": {},
     "output_type": "execute_result"
    }
   ],
   "source": [
    "model.best_params_"
   ]
  },
  {
   "cell_type": "markdown",
   "id": "098d2b54",
   "metadata": {},
   "source": [
    "# RandomForest"
   ]
  },
  {
   "cell_type": "code",
   "execution_count": 104,
   "id": "7c78b350",
   "metadata": {},
   "outputs": [
    {
     "name": "stdout",
     "output_type": "stream",
     "text": [
      "Fitting 5 folds for each of 10 candidates, totalling 50 fits\n"
     ]
    },
    {
     "data": {
      "image/png": "[encoded data removed]",
      "text/plain": [
       "<Figure size 432x288 with 1 Axes>"
      ]
     },
     "metadata": {
      "needs_background": "light"
     },
     "output_type": "display_data"
    },
    {
     "name": "stderr",
     "output_type": "stream",
     "text": [
      "C:\\Users\\prath\\AppData\\Roaming\\Python\\Python38\\site-packages\\sklearn\\utils\\deprecation.py:87: FutureWarning: Function plot_confusion_matrix is deprecated; Function `plot_confusion_matrix` is deprecated in 1.0 and will be removed in 1.2. Use one of the class methods: ConfusionMatrixDisplay.from_predictions or ConfusionMatrixDisplay.from_estimator.\n",
      "  warnings.warn(msg, category=FutureWarning)\n"
     ]
    },
    {
     "data": {
      "text/plain": [
       "<Figure size 432x288 with 0 Axes>"
      ]
     },
     "metadata": {},
     "output_type": "display_data"
    },
    {
     "data": {
      "image/png": "[encoded data removed]",
      "text/plain": [
       "<Figure size 432x288 with 2 Axes>"
      ]
     },
     "metadata": {
      "needs_background": "light"
     },
     "output_type": "display_data"
    }
   ],
   "source": [
    "param_grid = {\n",
    "    'reg__bootstrap': [True],\n",
    "    'reg__max_depth': [10, 20,50,100],\n",
    "    'reg__max_features': [2, 5,10,50],\n",
    "    'reg__n_estimators': [100, 200,500]\n",
    "}\n",
    "model=trainmodel(RandomForestClassifier(),data_prep_pipeline,param_grid,'accuracy')\n",
    "addresultotable(model,\"RF_b\")\n",
    "model_RF=model\n",
    "MODELS['RF_b']=model_RF\n",
    "plotROC(model)\n",
    "plotConf(model)"
   ]
  },
  {
   "cell_type": "code",
   "execution_count": 105,
   "id": "e24fd548",
   "metadata": {},
   "outputs": [
    {
     "data": {
      "text/plain": [
       "{'reg__n_estimators': 200,\n",
       " 'reg__max_features': 2,\n",
       " 'reg__max_depth': 100,\n",
       " 'reg__bootstrap': True}"
      ]
     },
     "execution_count": 105,
     "metadata": {},
     "output_type": "execute_result"
    }
   ],
   "source": [
    "model.best_params_"
   ]
  },
  {
   "cell_type": "code",
   "execution_count": 106,
   "id": "97c28d95",
   "metadata": {},
   "outputs": [
    {
     "data": {
      "text/html": [
       "<div>\n",
       "<style scoped>\n",
       "    .dataframe tbody tr th:only-of-type {\n",
       "        vertical-align: middle;\n",
       "    }\n",
       "\n",
       "    .dataframe tbody tr th {\n",
       "        vertical-align: top;\n",
       "    }\n",
       "\n",
       "    .dataframe thead th {\n",
       "        text-align: right;\n",
       "    }\n",
       "</style>\n",
       "<table border=\"1\" class=\"dataframe\">\n",
       "  <thead>\n",
       "    <tr style=\"text-align: right;\">\n",
       "      <th></th>\n",
       "      <th>exp_name</th>\n",
       "      <th>Train Acc</th>\n",
       "      <th>Test  Acc</th>\n",
       "      <th>Train AUC</th>\n",
       "      <th>Test  AUC</th>\n",
       "      <th>Train F1</th>\n",
       "      <th>Test F1</th>\n",
       "      <th>best_score</th>\n",
       "    </tr>\n",
       "  </thead>\n",
       "  <tbody>\n",
       "    <tr>\n",
       "      <th>0</th>\n",
       "      <td>XGB</td>\n",
       "      <td>0.9895</td>\n",
       "      <td>0.9876</td>\n",
       "      <td>0.9908</td>\n",
       "      <td>0.9872</td>\n",
       "      <td>0.9896</td>\n",
       "      <td>0.9876</td>\n",
       "      <td>0.9735</td>\n",
       "    </tr>\n",
       "    <tr>\n",
       "      <th>1</th>\n",
       "      <td>SVD_LOG</td>\n",
       "      <td>0.9992</td>\n",
       "      <td>0.9969</td>\n",
       "      <td>0.9995</td>\n",
       "      <td>0.9980</td>\n",
       "      <td>0.9992</td>\n",
       "      <td>0.9969</td>\n",
       "      <td>0.9981</td>\n",
       "    </tr>\n",
       "    <tr>\n",
       "      <th>2</th>\n",
       "      <td>RF</td>\n",
       "      <td>1.0000</td>\n",
       "      <td>1.0000</td>\n",
       "      <td>1.0000</td>\n",
       "      <td>1.0000</td>\n",
       "      <td>1.0000</td>\n",
       "      <td>1.0000</td>\n",
       "      <td>0.9992</td>\n",
       "    </tr>\n",
       "    <tr>\n",
       "      <th>3</th>\n",
       "      <td>KNN</td>\n",
       "      <td>1.0000</td>\n",
       "      <td>0.9969</td>\n",
       "      <td>1.0000</td>\n",
       "      <td>0.9933</td>\n",
       "      <td>1.0000</td>\n",
       "      <td>0.9969</td>\n",
       "      <td>0.9984</td>\n",
       "    </tr>\n",
       "    <tr>\n",
       "      <th>4</th>\n",
       "      <td>XGB_b</td>\n",
       "      <td>0.9983</td>\n",
       "      <td>0.9899</td>\n",
       "      <td>0.9983</td>\n",
       "      <td>0.9881</td>\n",
       "      <td>0.9983</td>\n",
       "      <td>0.9899</td>\n",
       "      <td>0.9966</td>\n",
       "    </tr>\n",
       "    <tr>\n",
       "      <th>5</th>\n",
       "      <td>SVD_LOG_b</td>\n",
       "      <td>1.0000</td>\n",
       "      <td>1.0000</td>\n",
       "      <td>1.0000</td>\n",
       "      <td>1.0000</td>\n",
       "      <td>1.0000</td>\n",
       "      <td>1.0000</td>\n",
       "      <td>0.9992</td>\n",
       "    </tr>\n",
       "    <tr>\n",
       "      <th>6</th>\n",
       "      <td>RF_b</td>\n",
       "      <td>1.0000</td>\n",
       "      <td>1.0000</td>\n",
       "      <td>1.0000</td>\n",
       "      <td>1.0000</td>\n",
       "      <td>1.0000</td>\n",
       "      <td>1.0000</td>\n",
       "      <td>0.9992</td>\n",
       "    </tr>\n",
       "  </tbody>\n",
       "</table>\n",
       "</div>"
      ],
      "text/plain": [
       "    exp_name  Train Acc  Test  Acc  Train AUC  Test  AUC  Train F1  Test F1  \\\n",
       "0        XGB     0.9895     0.9876     0.9908     0.9872    0.9896   0.9876   \n",
       "1    SVD_LOG     0.9992     0.9969     0.9995     0.9980    0.9992   0.9969   \n",
       "2         RF     1.0000     1.0000     1.0000     1.0000    1.0000   1.0000   \n",
       "3        KNN     1.0000     0.9969     1.0000     0.9933    1.0000   0.9969   \n",
       "4      XGB_b     0.9983     0.9899     0.9983     0.9881    0.9983   0.9899   \n",
       "5  SVD_LOG_b     1.0000     1.0000     1.0000     1.0000    1.0000   1.0000   \n",
       "6       RF_b     1.0000     1.0000     1.0000     1.0000    1.0000   1.0000   \n",
       "\n",
       "   best_score  \n",
       "0      0.9735  \n",
       "1      0.9981  \n",
       "2      0.9992  \n",
       "3      0.9984  \n",
       "4      0.9966  \n",
       "5      0.9992  \n",
       "6      0.9992  "
      ]
     },
     "execution_count": 106,
     "metadata": {},
     "output_type": "execute_result"
    }
   ],
   "source": [
    "expLog"
   ]
  },
  {
   "cell_type": "markdown",
   "id": "bfb865d4",
   "metadata": {},
   "source": [
    "# KNN"
   ]
  },
  {
   "cell_type": "code",
   "execution_count": 107,
   "id": "e2961ce1",
   "metadata": {},
   "outputs": [
    {
     "name": "stdout",
     "output_type": "stream",
     "text": [
      "Fitting 5 folds for each of 10 candidates, totalling 50 fits\n"
     ]
    },
    {
     "data": {
      "image/png": "[encoded data removed]",
      "text/plain": [
       "<Figure size 432x288 with 1 Axes>"
      ]
     },
     "metadata": {
      "needs_background": "light"
     },
     "output_type": "display_data"
    },
    {
     "name": "stderr",
     "output_type": "stream",
     "text": [
      "C:\\Users\\prath\\AppData\\Roaming\\Python\\Python38\\site-packages\\sklearn\\utils\\deprecation.py:87: FutureWarning: Function plot_confusion_matrix is deprecated; Function `plot_confusion_matrix` is deprecated in 1.0 and will be removed in 1.2. Use one of the class methods: ConfusionMatrixDisplay.from_predictions or ConfusionMatrixDisplay.from_estimator.\n",
      "  warnings.warn(msg, category=FutureWarning)\n"
     ]
    },
    {
     "data": {
      "text/plain": [
       "<Figure size 432x288 with 0 Axes>"
      ]
     },
     "metadata": {},
     "output_type": "display_data"
    },
    {
     "data": {
      "image/png": "[encoded data removed]",
      "text/plain": [
       "<Figure size 432x288 with 2 Axes>"
      ]
     },
     "metadata": {
      "needs_background": "light"
     },
     "output_type": "display_data"
    }
   ],
   "source": [
    "param_grid = {\n",
    "    'reg__n_neighbors': [2,5,10],\n",
    "    'reg__weights':['uniform', 'distance'],\n",
    "    'reg__p': [1,2]\n",
    "}\n",
    "model=trainmodel(KNeighborsClassifier(),data_prep_pipeline,param_grid,'accuracy')\n",
    "addresultotable(model,\"KNN_b\")\n",
    "model_Knn=model\n",
    "MODELS['Knn_b']=model_Knn\n",
    "plotROC(model)\n",
    "plotConf(model)"
   ]
  },
  {
   "cell_type": "code",
   "execution_count": 108,
   "id": "ce638834",
   "metadata": {},
   "outputs": [
    {
     "data": {
      "text/plain": [
       "{'reg__weights': 'distance', 'reg__p': 2, 'reg__n_neighbors': 2}"
      ]
     },
     "execution_count": 108,
     "metadata": {},
     "output_type": "execute_result"
    }
   ],
   "source": [
    "model.best_params_"
   ]
  },
  {
   "cell_type": "code",
   "execution_count": 109,
   "id": "81c7d281",
   "metadata": {},
   "outputs": [
    {
     "data": {
      "text/html": [
       "<div>\n",
       "<style scoped>\n",
       "    .dataframe tbody tr th:only-of-type {\n",
       "        vertical-align: middle;\n",
       "    }\n",
       "\n",
       "    .dataframe tbody tr th {\n",
       "        vertical-align: top;\n",
       "    }\n",
       "\n",
       "    .dataframe thead th {\n",
       "        text-align: right;\n",
       "    }\n",
       "</style>\n",
       "<table border=\"1\" class=\"dataframe\">\n",
       "  <thead>\n",
       "    <tr style=\"text-align: right;\">\n",
       "      <th></th>\n",
       "      <th>exp_name</th>\n",
       "      <th>Train Acc</th>\n",
       "      <th>Test  Acc</th>\n",
       "      <th>Train AUC</th>\n",
       "      <th>Test  AUC</th>\n",
       "      <th>Train F1</th>\n",
       "      <th>Test F1</th>\n",
       "      <th>best_score</th>\n",
       "    </tr>\n",
       "  </thead>\n",
       "  <tbody>\n",
       "    <tr>\n",
       "      <th>0</th>\n",
       "      <td>XGB</td>\n",
       "      <td>0.9895</td>\n",
       "      <td>0.9876</td>\n",
       "      <td>0.9908</td>\n",
       "      <td>0.9872</td>\n",
       "      <td>0.9896</td>\n",
       "      <td>0.9876</td>\n",
       "      <td>0.9735</td>\n",
       "    </tr>\n",
       "    <tr>\n",
       "      <th>1</th>\n",
       "      <td>SVD_LOG</td>\n",
       "      <td>0.9992</td>\n",
       "      <td>0.9969</td>\n",
       "      <td>0.9995</td>\n",
       "      <td>0.9980</td>\n",
       "      <td>0.9992</td>\n",
       "      <td>0.9969</td>\n",
       "      <td>0.9981</td>\n",
       "    </tr>\n",
       "    <tr>\n",
       "      <th>2</th>\n",
       "      <td>RF</td>\n",
       "      <td>1.0000</td>\n",
       "      <td>1.0000</td>\n",
       "      <td>1.0000</td>\n",
       "      <td>1.0000</td>\n",
       "      <td>1.0000</td>\n",
       "      <td>1.0000</td>\n",
       "      <td>0.9992</td>\n",
       "    </tr>\n",
       "    <tr>\n",
       "      <th>3</th>\n",
       "      <td>KNN</td>\n",
       "      <td>1.0000</td>\n",
       "      <td>0.9969</td>\n",
       "      <td>1.0000</td>\n",
       "      <td>0.9933</td>\n",
       "      <td>1.0000</td>\n",
       "      <td>0.9969</td>\n",
       "      <td>0.9984</td>\n",
       "    </tr>\n",
       "    <tr>\n",
       "      <th>4</th>\n",
       "      <td>XGB_b</td>\n",
       "      <td>0.9983</td>\n",
       "      <td>0.9899</td>\n",
       "      <td>0.9983</td>\n",
       "      <td>0.9881</td>\n",
       "      <td>0.9983</td>\n",
       "      <td>0.9899</td>\n",
       "      <td>0.9966</td>\n",
       "    </tr>\n",
       "    <tr>\n",
       "      <th>5</th>\n",
       "      <td>SVD_LOG_b</td>\n",
       "      <td>1.0000</td>\n",
       "      <td>1.0000</td>\n",
       "      <td>1.0000</td>\n",
       "      <td>1.0000</td>\n",
       "      <td>1.0000</td>\n",
       "      <td>1.0000</td>\n",
       "      <td>0.9992</td>\n",
       "    </tr>\n",
       "    <tr>\n",
       "      <th>6</th>\n",
       "      <td>RF_b</td>\n",
       "      <td>1.0000</td>\n",
       "      <td>1.0000</td>\n",
       "      <td>1.0000</td>\n",
       "      <td>1.0000</td>\n",
       "      <td>1.0000</td>\n",
       "      <td>1.0000</td>\n",
       "      <td>0.9992</td>\n",
       "    </tr>\n",
       "    <tr>\n",
       "      <th>7</th>\n",
       "      <td>KNN_b</td>\n",
       "      <td>1.0000</td>\n",
       "      <td>1.0000</td>\n",
       "      <td>1.0000</td>\n",
       "      <td>1.0000</td>\n",
       "      <td>1.0000</td>\n",
       "      <td>1.0000</td>\n",
       "      <td>0.9992</td>\n",
       "    </tr>\n",
       "  </tbody>\n",
       "</table>\n",
       "</div>"
      ],
      "text/plain": [
       "    exp_name  Train Acc  Test  Acc  Train AUC  Test  AUC  Train F1  Test F1  \\\n",
       "0        XGB     0.9895     0.9876     0.9908     0.9872    0.9896   0.9876   \n",
       "1    SVD_LOG     0.9992     0.9969     0.9995     0.9980    0.9992   0.9969   \n",
       "2         RF     1.0000     1.0000     1.0000     1.0000    1.0000   1.0000   \n",
       "3        KNN     1.0000     0.9969     1.0000     0.9933    1.0000   0.9969   \n",
       "4      XGB_b     0.9983     0.9899     0.9983     0.9881    0.9983   0.9899   \n",
       "5  SVD_LOG_b     1.0000     1.0000     1.0000     1.0000    1.0000   1.0000   \n",
       "6       RF_b     1.0000     1.0000     1.0000     1.0000    1.0000   1.0000   \n",
       "7      KNN_b     1.0000     1.0000     1.0000     1.0000    1.0000   1.0000   \n",
       "\n",
       "   best_score  \n",
       "0      0.9735  \n",
       "1      0.9981  \n",
       "2      0.9992  \n",
       "3      0.9984  \n",
       "4      0.9966  \n",
       "5      0.9992  \n",
       "6      0.9992  \n",
       "7      0.9992  "
      ]
     },
     "execution_count": 109,
     "metadata": {},
     "output_type": "execute_result"
    }
   ],
   "source": [
    "expLog"
   ]
  },
  {
   "cell_type": "code",
   "execution_count": 110,
   "id": "5bffc4e0",
   "metadata": {},
   "outputs": [],
   "source": [
    "model = MODELS['RF_b']\n",
    "ytest=model.predict(testdata)\n",
    "submission = pd.DataFrame({\n",
    "\n",
    "        \"ID\": testdata[\"ID\"],\n",
    "\n",
    "        \"Target\": ytest\n",
    "\n",
    "    })\n",
    "submission.to_csv('submission_RF_b.csv', index=False)\n",
    "\n",
    "\n",
    "model = MODELS['Knn_b']\n",
    "ytest=model.predict(testdata)\n",
    "submission = pd.DataFrame({\n",
    "\n",
    "        \"ID\": testdata[\"ID\"],\n",
    "\n",
    "        \"Target\": ytest\n",
    "\n",
    "    })\n",
    "submission.to_csv('submission_Knn_b.csv', index=False)"
   ]
  },
  {
   "cell_type": "code",
   "execution_count": 111,
   "id": "080f8ea3",
   "metadata": {},
   "outputs": [
    {
     "data": {
      "text/plain": [
       "46150"
      ]
     },
     "execution_count": 111,
     "metadata": {},
     "output_type": "execute_result"
    }
   ],
   "source": [
    "gc.collect()"
   ]
  },
  {
   "cell_type": "code",
   "execution_count": null,
   "id": "ab9c8bb5",
   "metadata": {},
   "outputs": [],
   "source": [
    "!pip install --upgrade --user nltk"
   ]
  },
  {
   "cell_type": "code",
   "execution_count": null,
   "id": "49ae729b",
   "metadata": {},
   "outputs": [],
   "source": [
    "import nltk\n",
    "import nltk\n",
    "from nltk.tokenize import word_tokenize\n",
    "from nltk.tag import pos_tag\n",
    "from nltk.chunk import tree2conlltags"
   ]
  },
  {
   "cell_type": "code",
   "execution_count": null,
   "id": "8ccf0291",
   "metadata": {},
   "outputs": [],
   "source": [
    "#nltk.download('punkt')\n",
    "#nltk.download('averaged_perceptron_tagger')\n",
    "# nltk.download('maxent_ne_chunker')\n",
    "# nltk.download('words')\n",
    "df2 = df\n",
    "df2['tokTw'] = df2['full_text'].apply(word_tokenize).apply(pos_tag).apply(nltk.ne_chunk,args=(False,)).apply(tree2conlltags)"
   ]
  },
  {
   "cell_type": "code",
   "execution_count": null,
   "id": "e024f5db",
   "metadata": {},
   "outputs": [],
   "source": [
    "df2['tokTw'][4]"
   ]
  },
  {
   "cell_type": "code",
   "execution_count": null,
   "id": "92a1e8cf",
   "metadata": {},
   "outputs": [],
   "source": [
    "def gpeex(td):\n",
    "    fl=[]\n",
    "    for tp in td:\n",
    "        if(tp[2]=='B-GPE' or tp[2]=='I-GPE'):\n",
    "            fl.append(tp[0].lower())\n",
    "    return tuple(fl)"
   ]
  },
  {
   "cell_type": "code",
   "execution_count": null,
   "id": "05bde7c2",
   "metadata": {},
   "outputs": [],
   "source": [
    "df2['GPEs']=df2['tokTw'].apply(gpeex)"
   ]
  },
  {
   "cell_type": "code",
   "execution_count": null,
   "id": "36c031bd",
   "metadata": {},
   "outputs": [],
   "source": [
    "df2['GPEs']"
   ]
  },
  {
   "cell_type": "code",
   "execution_count": null,
   "id": "7e18254a",
   "metadata": {},
   "outputs": [],
   "source": [
    "plt.figure(figsize=(5,5))\n",
    "datasets[\"application_train\"]['GPEs'].plot.hist(label=True);\n",
    "plt.title('TARGET Distribution')\n",
    "plt.xlabel('TARGET value')\n",
    "plt.ylabel('Frequency');\n",
    "plt.show()"
   ]
  },
  {
   "cell_type": "code",
   "execution_count": null,
   "id": "95f8a598",
   "metadata": {},
   "outputs": [],
   "source": [
    "#stacked bar plots matplotlib: https://matplotlib.org/gallery/lines_bars_and_markers/bar_stacked.html\n",
    "#https://medium.com/analytics-vidhya/home-credit-default-risk-part-1-business-understanding-data-cleaning-and-eda-1203913e979c\n",
    "def stack_plot(data, xtick, col2='Target', col3='total'):\n",
    "    ind = np.arange(data.shape[0])\n",
    "    \n",
    "    if len(data[xtick].unique())<5:\n",
    "        plt.figure(figsize=(5,5))\n",
    "    elif len(data[xtick].unique())>5 & len(data[xtick].unique())<10:\n",
    "        plt.figure(figsize=(7,7))\n",
    "    else:\n",
    "        plt.figure(figsize=(15,15))\n",
    "    p1 = plt.bar(ind, data[col3].values,color=['Black'])\n",
    "    p2 = plt.bar(ind, data[col2].values,color=['Red'])\n",
    "    plt.ylabel('Loans')\n",
    "    plt.title('Loans Approved vs Rejected')\n",
    "    plt.xticks(ticks=ind,rotation=90,labels= list(data[xtick].values))\n",
    "    plt.legend((p1[0], p2[0]), ('CAPABLE', 'INCAPABLE'))\n",
    "    plt.show()\n",
    "    \n",
    "    \n",
    "def univariate_barplots(data, col1, col2='Target', top=False):\n",
    "    \n",
    "    temp = pd.DataFrame(data.groupby(col1)[col2].agg(lambda x: x.eq(1).sum())).reset_index()\n",
    "    temp['total'] = pd.DataFrame(data.groupby(col1)[col2].agg(total='count')).reset_index()['total']\n",
    "    temp['Avg'] = pd.DataFrame(data.groupby(col1)[col2].agg(Avg='mean')).reset_index()['Avg']  \n",
    "    temp.sort_values(by=['total'],inplace=True, ascending=False)  \n",
    "    if top:\n",
    "        temp = temp[0:top]  \n",
    "    stack_plot(temp, xtick=col1, col2=col2, col3='total')\n",
    "    print(temp.head(5))\n",
    "    print(\"=\"*50)\n",
    "    print(temp.tail(5))\n",
    "\n",
    "def stack_plot_dist(data, xtick, col2='Target', col3='total'):\n",
    "    ind = np.arange(data.shape[0])\n",
    "    \n",
    "    if len(data[xtick].unique())<5:\n",
    "        plt.figure(figsize=(5,5))\n",
    "    elif len(data[xtick].unique())>5 & len(data[xtick].unique())<10:\n",
    "        plt.figure(figsize=(7,7))\n",
    "    else:\n",
    "        plt.figure(figsize=(15,15))\n",
    "    p1 = plt.bar(ind, data[col3].values,color=['Black'])\n",
    "    p2 = plt.bar(ind, data[col2].values,color=['Red'])\n",
    "    plt.ylabel('Loans')\n",
    "    plt.title('Loans Approved vs Rejected')\n",
    "    plt.xticks(ticks=ind,rotation=90,labels= list(data[xtick].values))\n",
    "    plt.legend((p1[0], p2[0]), ('CAPABLE', 'INCAPABLE'))\n",
    "    plt.show()"
   ]
  },
  {
   "cell_type": "code",
   "execution_count": null,
   "id": "325d075e",
   "metadata": {},
   "outputs": [],
   "source": [
    "univariate_barplots(df2, 'GPEs', col2='Target', top=False)"
   ]
  },
  {
   "cell_type": "code",
   "execution_count": null,
   "id": "a8f9cbba",
   "metadata": {},
   "outputs": [],
   "source": []
  },
  {
   "cell_type": "code",
   "execution_count": 41,
   "id": "0c20cfa1",
   "metadata": {},
   "outputs": [
    {
     "name": "stderr",
     "output_type": "stream",
     "text": [
      "ERROR: Could not find a version that satisfies the requirement torch==1.4.0\n",
      "ERROR: No matching distribution found for torch==1.4.0\n"
     ]
    }
   ],
   "source": [
    "!pip3 install torch==1.4.0\n",
    "# !pip install tensorboard"
   ]
  },
  {
   "cell_type": "code",
   "execution_count": 40,
   "id": "ce0ecda8",
   "metadata": {},
   "outputs": [
    {
     "ename": "ModuleNotFoundError",
     "evalue": "No module named 'tensorboard'",
     "output_type": "error",
     "traceback": [
      "\u001b[1;31m---------------------------------------------------------------------------\u001b[0m",
      "\u001b[1;31mModuleNotFoundError\u001b[0m                       Traceback (most recent call last)",
      "\u001b[1;32m<ipython-input-40-3464bfdf60b3>\u001b[0m in \u001b[0;36m<module>\u001b[1;34m\u001b[0m\n\u001b[0;32m      4\u001b[0m \u001b[1;32mimport\u001b[0m \u001b[0mtorch\u001b[0m\u001b[1;33m.\u001b[0m\u001b[0moptim\u001b[0m \u001b[1;32mas\u001b[0m \u001b[0moptim\u001b[0m\u001b[1;33m\u001b[0m\u001b[1;33m\u001b[0m\u001b[0m\n\u001b[0;32m      5\u001b[0m \u001b[1;32mfrom\u001b[0m \u001b[0mtorch\u001b[0m\u001b[1;33m.\u001b[0m\u001b[0mutils\u001b[0m\u001b[1;33m.\u001b[0m\u001b[0mdata\u001b[0m \u001b[1;32mimport\u001b[0m \u001b[0mDataLoader\u001b[0m\u001b[1;33m\u001b[0m\u001b[1;33m\u001b[0m\u001b[0m\n\u001b[1;32m----> 6\u001b[1;33m \u001b[1;32mfrom\u001b[0m \u001b[0mtorch\u001b[0m\u001b[1;33m.\u001b[0m\u001b[0mutils\u001b[0m\u001b[1;33m.\u001b[0m\u001b[0mtensorboard\u001b[0m \u001b[1;32mimport\u001b[0m \u001b[0mSummaryWriter\u001b[0m\u001b[1;33m\u001b[0m\u001b[1;33m\u001b[0m\u001b[0m\n\u001b[0m",
      "\u001b[1;32mC:\\ProgramData\\Anaconda3\\lib\\site-packages\\torch\\utils\\tensorboard\\__init__.py\u001b[0m in \u001b[0;36m<module>\u001b[1;34m\u001b[0m\n\u001b[1;32m----> 1\u001b[1;33m \u001b[1;32mimport\u001b[0m \u001b[0mtensorboard\u001b[0m\u001b[1;33m\u001b[0m\u001b[1;33m\u001b[0m\u001b[0m\n\u001b[0m\u001b[0;32m      2\u001b[0m \u001b[1;32mfrom\u001b[0m \u001b[0msetuptools\u001b[0m \u001b[1;32mimport\u001b[0m \u001b[0mdistutils\u001b[0m\u001b[1;33m\u001b[0m\u001b[1;33m\u001b[0m\u001b[0m\n\u001b[0;32m      3\u001b[0m \u001b[1;33m\u001b[0m\u001b[0m\n\u001b[0;32m      4\u001b[0m \u001b[0mLooseVersion\u001b[0m \u001b[1;33m=\u001b[0m \u001b[0mdistutils\u001b[0m\u001b[1;33m.\u001b[0m\u001b[0mversion\u001b[0m\u001b[1;33m.\u001b[0m\u001b[0mLooseVersion\u001b[0m\u001b[1;33m\u001b[0m\u001b[1;33m\u001b[0m\u001b[0m\n\u001b[0;32m      5\u001b[0m \u001b[1;33m\u001b[0m\u001b[0m\n",
      "\u001b[1;31mModuleNotFoundError\u001b[0m: No module named 'tensorboard'"
     ]
    }
   ],
   "source": [
    "import torch\n",
    "import torch.nn as nn\n",
    "import torch.nn.functional as func\n",
    "import torch.optim as optim\n",
    "from torch.utils.data import DataLoader\n",
    "from torch.utils.tensorboard import SummaryWriter"
   ]
  },
  {
   "cell_type": "code",
   "execution_count": null,
   "id": "6f0cc497",
   "metadata": {},
   "outputs": [],
   "source": []
  }
 ],
 "metadata": {
  "kernelspec": {
   "display_name": "Python 3",
   "language": "python",
   "name": "python3"
  },
  "language_info": {
   "codemirror_mode": {
    "name": "ipython",
    "version": 3
   },
   "file_extension": ".py",
   "mimetype": "text/x-python",
   "name": "python",
   "nbconvert_exporter": "python",
   "pygments_lexer": "ipython3",
   "version": "3.8.8"
  }
 },
 "nbformat": 4,
 "nbformat_minor": 5
}
